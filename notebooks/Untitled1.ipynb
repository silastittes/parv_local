{
 "cells": [
  {
   "cell_type": "code",
   "execution_count": 1,
   "metadata": {},
   "outputs": [],
   "source": [
    "import mushi\n",
    "\n",
    "import matplotlib.pyplot as plt\n",
    "import pandas as pd\n",
    "import numpy as np\n",
    "import os"
   ]
  },
  {
   "cell_type": "code",
   "execution_count": 3,
   "metadata": {
    "scrolled": false
   },
   "outputs": [
    {
     "name": "stdout",
     "output_type": "stream",
     "text": [
      "inferring η(t)\n",
      "initial objective -2.169617e+08\n",
      "iteration 4713, objective -2.191e+08, relative change 9.998e-11                                                                                                                                                                                                                                                                                                                                                                                                                              \n",
      "relative change in objective function 1e-10 is within tolerance 1e-10 after 4713 iterations\n"
     ]
    },
    {
     "data": {
      "image/png": "[encoded data removed]",
      "text/plain": [
       "<Figure size 432x288 with 1 Axes>"
      ]
     },
     "metadata": {
      "needs_background": "light"
     },
     "output_type": "display_data"
    },
    {
     "data": {
      "text/plain": [
       "[<matplotlib.lines.Line2D at 0x154804137210>]"
      ]
     },
     "execution_count": 3,
     "metadata": {},
     "output_type": "execute_result"
    },
    {
     "data": {
      "image/png": "[encoded data removed]",
      "text/plain": [
       "<Figure size 432x288 with 1 Axes>"
      ]
     },
     "metadata": {
      "needs_background": "light"
     },
     "output_type": "display_data"
    }
   ],
   "source": [
    "with open(\"../data/angsd_pi/v5--Teo--random.sfs\") as f:        \n",
    "#with open(\"../data/angsd_sfs/v5--Teo--Amatlan_de_Canas_fold4_AT,TA,GC,CG_sfs.txt\") as f:            \n",
    "    sfs = f.readlines()[0].split()\n",
    "    sfs = [float(s) for s in sfs]\n",
    "\n",
    "t = np.logspace(np.log10(1), np.log10(1000000), 100)\n",
    "\n",
    "ksfs = mushi.kSFS(np.array(sfs[1:-1]))\n",
    "ksfs.infer_history(t, mu0 = 1e-7*sum(sfs), infer_mu=False, folded = False,\n",
    "                   tol=1e-10, verbose=True, max_iter = 5000)\n",
    "\n",
    "ksfs.plot_total()\n",
    "plt.xscale('log')\n",
    "plt.yscale('log')\n",
    "plt.show()\n",
    "ksfs.eta.plot()"
   ]
  },
  {
   "cell_type": "code",
   "execution_count": null,
   "metadata": {},
   "outputs": [],
   "source": [
    "with open(\"/home/stittes/old_sfs/v5--Teo--Amatlan_de_Canas.sfs\") as f:        \n",
    "#with open(\"../data/angsd_sfs/v5--Teo--Amatlan_de_Canas_fold4_AT,TA,GC,CG_sfs.txt\") as f:            \n",
    "    sfs = f.readlines()[0].split()\n",
    "    sfs = [float(s) for s in sfs]\n",
    "\n",
    "t = np.logspace(np.log10(1), np.log10(200000), 100)\n",
    "\n",
    "kfsf = mushi.kSFS(np.array(sfs[1:-1]))\n",
    "nuc_count = (2225717830) / (2225717830 - 1794298427)\n",
    "kfsf.infer_history(t, mu0 = 3e-8*sum(sfs), infer_mu=False, folded = False, \n",
    "                   #alpha_spline=3e3, alpha_ridge=1e-4,\n",
    "                   #beta_rank=1e2, beta_spline=1e1, beta_ridge=1e-4,\n",
    "                   tol=1e-11, verbose=True)\n",
    "\n",
    "kfsf.plot_total()\n",
    "plt.xscale('log')\n",
    "plt.yscale('log')\n",
    "plt.show()\n",
    "kfsf.eta.plot()"
   ]
  },
  {
   "cell_type": "code",
   "execution_count": null,
   "metadata": {},
   "outputs": [],
   "source": [
    "kfsf.eta.plot()\n",
    "\n",
    "Nt = kfsf.eta.vals\n",
    "T = kfsf.eta.change_points\n",
    "\n",
    "N_0 = Nt[0]\n",
    "\n",
    "ms_N = Nt[1:]/N_0\n",
    "ms_T = T/(4*N_0)\n",
    "\n",
    "pop = \"test\"\n",
    "\n",
    "print(f\"t\\tn\\tpop\")\n",
    "for t, n in zip(ms_T, ms_N):\n",
    "    print(f\"{t}\\t{n}\\t{pop}\")\n",
    "    \n",
    "en_string = ' '.join([f\"--size-change {t} {n}\" for t, n in zip(ms_T, ms_N)])\n",
    "\n",
    "bps = 10000\n",
    "c = 1.6e-8\n",
    "theta = 4 * N_0 * 3e-8 * bps\n",
    "rho = 4 * N_0 * c * bps\n",
    "nsims = 1000\n",
    "\n",
    "\n",
    "#ms_string = f\"mspms {len(sfs)-1} {nsims} --mutation-rate {theta} --recombination {rho} {bps} {en_string} > ~/mspmstest\"\n",
    "#os.system(ms_string)\n",
    "#mean_pi = \"\"\"cat ~/mspmstest | msdir/sample_stats | awk '{print $2/10000}' | awk '{ total += $1; count++ } END { print total/count}\"\"\"\n",
    "#print(os.system(mean_pi))"
   ]
  },
  {
   "cell_type": "code",
   "execution_count": null,
   "metadata": {},
   "outputs": [],
   "source": [
    "with open(\"../data/angsd_sfs/v5--LR--random2_Palmar_Chico_fold4_AT,AG,AC,TA,TG,TC,GA,GT,GC,CA,CT,CG_sfs.txt\") as f:        \n",
    "    sfs = f.readlines()[0].split()\n",
    "    sfs = [float(s) for s in sfs]\n",
    "\n",
    "t = np.logspace(np.log10(1), np.log10(20000), 200)\n",
    "\n",
    "kfsf = mushi.kSFS(np.array(sfs[1:-1]))\n",
    "kfsf.infer_history(t, mu0 = 3e-8*3e6, infer_mu=False, folded = False)\n"
   ]
  },
  {
   "cell_type": "code",
   "execution_count": null,
   "metadata": {},
   "outputs": [],
   "source": [
    "kfsf.eta.plot()"
   ]
  },
  {
   "cell_type": "code",
   "execution_count": null,
   "metadata": {},
   "outputs": [],
   "source": []
  }
 ],
 "metadata": {
  "kernelspec": {
   "display_name": "Python 3",
   "language": "python",
   "name": "python3"
  },
  "language_info": {
   "codemirror_mode": {
    "name": "ipython",
    "version": 3
   },
   "file_extension": ".py",
   "mimetype": "text/x-python",
   "name": "python",
   "nbconvert_exporter": "python",
   "pygments_lexer": "ipython3",
   "version": "3.7.8"
  }
 },
 "nbformat": 4,
 "nbformat_minor": 4
}
