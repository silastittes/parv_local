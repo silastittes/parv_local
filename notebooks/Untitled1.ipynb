{
 "cells": [
  {
   "cell_type": "code",
   "execution_count": 1,
   "metadata": {},
   "outputs": [
    {
     "name": "stderr",
     "output_type": "stream",
     "text": [
      "Loading required package: MASS\n",
      "\n",
      "Loading required package: dplyr\n",
      "\n",
      "\n",
      "Attaching package: ‘dplyr’\n",
      "\n",
      "\n",
      "The following object is masked from ‘package:MASS’:\n",
      "\n",
      "    select\n",
      "\n",
      "\n",
      "The following objects are masked from ‘package:stats’:\n",
      "\n",
      "    filter, lag\n",
      "\n",
      "\n",
      "The following objects are masked from ‘package:base’:\n",
      "\n",
      "    intersect, setdiff, setequal, union\n",
      "\n",
      "\n",
      "Loading required package: tidyr\n",
      "\n",
      "Loading required package: purrr\n",
      "\n",
      "Loading required package: magrittr\n",
      "\n",
      "\n",
      "Attaching package: ‘magrittr’\n",
      "\n",
      "\n",
      "The following object is masked from ‘package:purrr’:\n",
      "\n",
      "    set_names\n",
      "\n",
      "\n",
      "The following object is masked from ‘package:tidyr’:\n",
      "\n",
      "    extract\n",
      "\n",
      "\n",
      "Loading required package: rlang\n",
      "\n",
      "\n",
      "Attaching package: ‘rlang’\n",
      "\n",
      "\n",
      "The following object is masked from ‘package:magrittr’:\n",
      "\n",
      "    set_names\n",
      "\n",
      "\n",
      "The following objects are masked from ‘package:purrr’:\n",
      "\n",
      "    %@%, as_function, flatten, flatten_chr, flatten_dbl, flatten_int,\n",
      "    flatten_lgl, flatten_raw, invoke, list_along, modify, prepend,\n",
      "    splice\n",
      "\n",
      "\n",
      "── \u001b[1mAttaching packages\u001b[22m ───────────────────────────────────────────────────────────────────────────────────────────────────────────────────────────────────────────────────────────────────────────────────────── tidyverse 1.3.0 ──\n",
      "\n",
      "\u001b[32m✔\u001b[39m \u001b[34mggplot2\u001b[39m 3.3.2     \u001b[32m✔\u001b[39m \u001b[34mstringr\u001b[39m 1.4.0\n",
      "\u001b[32m✔\u001b[39m \u001b[34mtibble \u001b[39m 3.0.4     \u001b[32m✔\u001b[39m \u001b[34mforcats\u001b[39m 0.5.0\n",
      "\u001b[32m✔\u001b[39m \u001b[34mreadr  \u001b[39m 1.4.0     \n",
      "\n",
      "── \u001b[1mConflicts\u001b[22m ──────────────────────────────────────────────────────────────────────────────────────────────────────────────────────────────────────────────────────────────────────────────────────────── tidyverse_conflicts() ──\n",
      "\u001b[31m✖\u001b[39m \u001b[34mrlang\u001b[39m::\u001b[32m%@%()\u001b[39m         masks \u001b[34mpurrr\u001b[39m::%@%()\n",
      "\u001b[31m✖\u001b[39m \u001b[34mrlang\u001b[39m::\u001b[32mas_function()\u001b[39m masks \u001b[34mpurrr\u001b[39m::as_function()\n",
      "\u001b[31m✖\u001b[39m \u001b[34mmagrittr\u001b[39m::\u001b[32mextract()\u001b[39m  masks \u001b[34mtidyr\u001b[39m::extract()\n",
      "\u001b[31m✖\u001b[39m \u001b[34mdplyr\u001b[39m::\u001b[32mfilter()\u001b[39m      masks \u001b[34mstats\u001b[39m::filter()\n",
      "\u001b[31m✖\u001b[39m \u001b[34mrlang\u001b[39m::\u001b[32mflatten()\u001b[39m     masks \u001b[34mpurrr\u001b[39m::flatten()\n",
      "\u001b[31m✖\u001b[39m \u001b[34mrlang\u001b[39m::\u001b[32mflatten_chr()\u001b[39m masks \u001b[34mpurrr\u001b[39m::flatten_chr()\n",
      "\u001b[31m✖\u001b[39m \u001b[34mrlang\u001b[39m::\u001b[32mflatten_dbl()\u001b[39m masks \u001b[34mpurrr\u001b[39m::flatten_dbl()\n",
      "\u001b[31m✖\u001b[39m \u001b[34mrlang\u001b[39m::\u001b[32mflatten_int()\u001b[39m masks \u001b[34mpurrr\u001b[39m::flatten_int()\n",
      "\u001b[31m✖\u001b[39m \u001b[34mrlang\u001b[39m::\u001b[32mflatten_lgl()\u001b[39m masks \u001b[34mpurrr\u001b[39m::flatten_lgl()\n",
      "\u001b[31m✖\u001b[39m \u001b[34mrlang\u001b[39m::\u001b[32mflatten_raw()\u001b[39m masks \u001b[34mpurrr\u001b[39m::flatten_raw()\n",
      "\u001b[31m✖\u001b[39m \u001b[34mrlang\u001b[39m::\u001b[32minvoke()\u001b[39m      masks \u001b[34mpurrr\u001b[39m::invoke()\n",
      "\u001b[31m✖\u001b[39m \u001b[34mdplyr\u001b[39m::\u001b[32mlag()\u001b[39m         masks \u001b[34mstats\u001b[39m::lag()\n",
      "\u001b[31m✖\u001b[39m \u001b[34mrlang\u001b[39m::\u001b[32mlist_along()\u001b[39m  masks \u001b[34mpurrr\u001b[39m::list_along()\n",
      "\u001b[31m✖\u001b[39m \u001b[34mrlang\u001b[39m::\u001b[32mmodify()\u001b[39m      masks \u001b[34mpurrr\u001b[39m::modify()\n",
      "\u001b[31m✖\u001b[39m \u001b[34mrlang\u001b[39m::\u001b[32mprepend()\u001b[39m     masks \u001b[34mpurrr\u001b[39m::prepend()\n",
      "\u001b[31m✖\u001b[39m \u001b[34mdplyr\u001b[39m::\u001b[32mselect()\u001b[39m      masks \u001b[34mMASS\u001b[39m::select()\n",
      "\u001b[31m✖\u001b[39m \u001b[34mrlang\u001b[39m::\u001b[32mset_names()\u001b[39m   masks \u001b[34mmagrittr\u001b[39m::set_names(), \u001b[34mpurrr\u001b[39m::set_names()\n",
      "\u001b[31m✖\u001b[39m \u001b[34mrlang\u001b[39m::\u001b[32msplice()\u001b[39m      masks \u001b[34mpurrr\u001b[39m::splice()\n",
      "\n"
     ]
    }
   ],
   "source": [
    "library(rdmc)\n",
    "library(tidyverse)"
   ]
  },
  {
   "cell_type": "code",
   "execution_count": 24,
   "metadata": {},
   "outputs": [
    {
     "name": "stderr",
     "output_type": "stream",
     "text": [
      "\u001b[1mRows:\u001b[22m 97,292\n",
      "\u001b[1mColumns:\u001b[22m 16\n",
      "\u001b[1mDelimiter:\u001b[22m \"\\t\"\n",
      "\u001b[31mchr\u001b[39m [ 1]: chrom\n",
      "\u001b[32mdbl\u001b[39m [15]: start, end, v5--LR--Amatlan_de_Canas, v5--LR--Crucero_Lagunitas, v5--LR--Los_Gua...\n",
      "\n",
      "\u001b[90mUse `spec()` to retrieve the guessed column specification\u001b[39m\n",
      "\u001b[90mPass a specification to the `col_types` argument to quiet this message\u001b[39m\n",
      "\n"
     ]
    }
   ],
   "source": [
    "FREQ_POPS = c(\n",
    "    \"chrom\",\n",
    "    \"start\",\n",
    "    \"end\",\n",
    "    \"v5--LR--Amatlan_de_Canas\",\n",
    "    \"v5--LR--Crucero_Lagunitas\",\n",
    "    \"v5--LR--Los_Guajes\",\n",
    "    \"v5--LR--random1_Palmar_Chico\",\n",
    "    \"v5--LR--random2_Palmar_Chico\",\n",
    "    \"v5--LR--San_Lorenzo\",\n",
    "    \"v5--Teo--Amatlan_de_Canas\",\n",
    "    \"v5--Teo--Crucero_Lagunitas\",\n",
    "    \"v5--Teo--El_Rodeo\",\n",
    "    \"v5--Teo--Los_Guajes\",\n",
    "    \"v5--Teo--random1_Palmar_Chico\",\n",
    "    \"v5--Teo--random2_Palmar_Chico\",\n",
    "    \"v5--Teo--San_Lorenzo\"\n",
    ")\n",
    "\n",
    "\n",
    "\n",
    "pop_mat <- vroom::vroom(file = \"../data/rdmc/sweep_freq/sweep--chr1--0--308452471_start1416327_end1694646_pops1-4-5-6-7-8-9-10-11-12.txt\",   \n",
    "    delim = \"\\t\",\n",
    "    col_names = FREQ_POPS) %>% \n",
    "    select(-c(chrom, start, end)) %>% \n",
    "    head() %>% \n",
    "    t()"
   ]
  },
  {
   "cell_type": "code",
   "execution_count": 22,
   "metadata": {},
   "outputs": [
    {
     "data": {
      "text/html": [
       "<style>\n",
       ".list-inline {list-style: none; margin:0; padding: 0}\n",
       ".list-inline>li {display: inline-block}\n",
       ".list-inline>li:not(:last-child)::after {content: \"\\00b7\"; padding: 0 .5ex}\n",
       "</style>\n",
       "<ol class=list-inline><li>6</li><li>955</li></ol>\n"
      ],
      "text/latex": [
       "\\begin{enumerate*}\n",
       "\\item 6\n",
       "\\item 955\n",
       "\\end{enumerate*}\n"
      ],
      "text/markdown": [
       "1. 6\n",
       "2. 955\n",
       "\n",
       "\n"
      ],
      "text/plain": [
       "[1]   6 955"
      ]
     },
     "metadata": {},
     "output_type": "display_data"
    }
   ],
   "source": [
    "#load example data\n",
    "\n",
    "data(neutral_freqs)\n",
    "\n",
    "data(selected_freqs)\n",
    "\n",
    "data(positions)\n",
    "\n",
    "dim(selected_freqs)\n",
    "\n",
    "\n"
   ]
  },
  {
   "cell_type": "code",
   "execution_count": null,
   "metadata": {},
   "outputs": [],
   "source": []
  }
 ],
 "metadata": {
  "kernelspec": {
   "display_name": "R",
   "language": "R",
   "name": "ir"
  },
  "language_info": {
   "codemirror_mode": "r",
   "file_extension": ".r",
   "mimetype": "text/x-r-source",
   "name": "R",
   "pygments_lexer": "r",
   "version": "3.6.3"
  }
 },
 "nbformat": 4,
 "nbformat_minor": 4
}
