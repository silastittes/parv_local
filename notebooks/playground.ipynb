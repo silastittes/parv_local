{
 "cells": [
  {
   "cell_type": "code",
   "execution_count": 2,
   "metadata": {},
   "outputs": [
    {
     "data": {
      "text/plain": [
       "'sweep_chr1_start23160_end380776_pops6-7-8-9-13-14-15-16.txt'"
      ]
     },
     "execution_count": 2,
     "metadata": {},
     "output_type": "execute_result"
    }
   ],
   "source": [
    "#rdmc prep \n",
    "import pandas as pd\n",
    "\n",
    "FREQ_POPS = [\n",
    "    \"chrom\",\n",
    "    \"start\",\n",
    "    \"end\",\n",
    "    \"v5--LR--Amatlan_de_Canas\",\n",
    "    \"v5--LR--Crucero_Lagunitas\",\n",
    "    \"v5--LR--Los_Guajes\",\n",
    "    \"v5--LR--random1_Palmar_Chico\",\n",
    "    \"v5--LR--random2_Palmar_Chico\",\n",
    "    \"v5--LR--San_Lorenzo\",\n",
    "    \"v5--Teo--Amatlan_de_Canas\",\n",
    "    \"v5--Teo--Crucero_Lagunitas\",\n",
    "    \"v5--Teo--El_Rodeo\",\n",
    "    \"v5--Teo--Los_Guajes\",\n",
    "    \"v5--Teo--random1_Palmar_Chico\",\n",
    "    \"v5--Teo--random2_Palmar_Chico\",\n",
    "    \"v5--Teo--San_Lorenzo\"\n",
    "]\n",
    "\n",
    "sweep_df = pd.read_csv(\"../data/raisd/v5--allpops--shared_outliers.txt\", \n",
    "            sep = \"\\t\", \n",
    "            names = [\"chrom\", \"start\", \"end\", \"length\", \"files\"])\n",
    "\n",
    "sweep_idx = []\n",
    "for sweep in sweep_df['files']:\n",
    "    sweep_files = sweep.split(',')\n",
    "    s_idx = [f\"{i+1}\" for i,x in enumerate(FREQ_POPS) for s in sweep_files if s.find(x) != -1]\n",
    "    if len(s_idx) < 2 or len(s_idx) > len(FREQ_POPS)-2:\n",
    "        sweep_idx.append(\"NA\")\n",
    "    else:\n",
    "        sweep_idx.append('-'.join(s_idx))\n",
    "        \n",
    "sweep_df['sweep_idx'] = sweep_idx\n",
    "\n",
    "out_file = [f\"sweep_{row['chrom']}_start{str(row['start'])}_end{str(row['end'])}_pops{row['sweep_idx']}.txt\" for index, row in sweep_df.iterrows()]\n",
    "sweep_df['out_file'] = out_file\n",
    "sweep_df[sweep_df['sweep_idx'] != \"NA\"]\n",
    "\n",
    "\n",
    "\"\"\"\n",
    "\n",
    "rule get_sweep:\n",
    "    input:\n",
    "        \"data/rdmc/freq/allpops--{chrom}--{start}--{end}_freq.txt.gz\"\n",
    "    output:\n",
    "        \"{}\"\n",
    "    params:\n",
    "        chrom = \"{chrom}\",\n",
    "        start = \"{start}\",\n",
    "        end = \"{end}\"\n",
    "    shell:\n",
    "    \n",
    "    awk -v chrom={params.chrom} -v start={params.start} -v end={params.end} '$1==chrom && $2 >= start $$ $3 <= end {{print $0}}' {input} > {output}\n",
    "    \n",
    "\n",
    "\n",
    "\n",
    "rule rdmc_cli \n",
    "    input:\n",
    "        gmap = \"ogut something something\"\n",
    "        freq_file = \"\"\n",
    "    output:\n",
    "        sweep_{chr1}_start{start}_end{end}_pops{pops}.txt\n",
    "    params:\n",
    "        pops = \"{pops}\",\n",
    "        start = \"{start}\",\n",
    "        end = \"{end}\"\n",
    "        \n",
    "    shell:\n",
    "    \"rdmc_cli --pops {pops} --gmap {gmap} --freqs {freq_file} --start {start} --end {end} -g -s -t\"\n",
    "    \n",
    "\"\"\"\n",
    "\n",
    "out_file[0]"
   ]
  },
  {
   "cell_type": "code",
   "execution_count": 10,
   "metadata": {},
   "outputs": [],
   "source": [
    "import mushi\n",
    "\n",
    "import matplotlib.pyplot as plt\n",
    "import pandas as pd\n",
    "import numpy as np\n",
    "import os\n",
    "import msprime\n",
    "import tskit\n",
    "from itertools import tee\n",
    "from matplotlib.collections import PatchCollection\n",
    "from matplotlib.patches import Rectangle\n",
    "\n",
    "from glob import glob"
   ]
  },
  {
   "cell_type": "code",
   "execution_count": 4,
   "metadata": {},
   "outputs": [
    {
     "name": "stderr",
     "output_type": "stream",
     "text": [
      "WARNING:absl:No GPU/TPU found, falling back to CPU. (Set TF_CPP_MIN_LOG_LEVEL=0 and rerun for more info.)\n"
     ]
    },
    {
     "name": "stdout",
     "output_type": "stream",
     "text": [
      "[4.36633475e+08 2.91931316e+06 2.25127341e+06 1.74401863e+06\n",
      " 1.41941808e+06 1.14544306e+06 9.09551982e+05 7.86321002e+05\n",
      " 6.00326418e+05 5.25119261e+05 4.56369575e+05 4.17360462e+05\n",
      " 3.61712165e+05 3.17084019e+05 2.95351880e+05 2.64600625e+05\n",
      " 2.38130811e+05 2.15446520e+05 2.07047099e+05 2.00210490e+05\n",
      " 1.60117800e+05 1.50862333e+05 1.53539344e+05 1.36087870e+05\n",
      " 1.41431026e+05 1.21004331e+05 1.17919190e+05 1.09202535e+05\n",
      " 1.03036894e+05 9.42090725e+04 9.52642716e+04 8.84190590e+04\n",
      " 8.58711489e+04 8.07705509e+04 7.87613513e+04 7.25394911e+04\n",
      " 7.02607351e+04 6.66769992e+04 6.64457648e+04 6.31574275e+04\n",
      " 5.78660329e+04 5.73178725e+04 5.55756910e+04 5.23846399e+04\n",
      " 4.88238676e+04 5.28941296e+04 4.93506877e+04 4.50633489e+04\n",
      " 4.60666863e+04 4.63852534e+04 4.31682625e+04 4.20759716e+04\n",
      " 4.09902014e+04 3.76624737e+04 3.81640374e+04 4.07549877e+04\n",
      " 3.06942217e+04 3.16411313e+04 3.15768914e+04 3.05639598e+04\n",
      " 3.08047341e+04 3.06020372e+04 2.85039165e+04 2.77367756e+04\n",
      " 2.78755377e+04 2.72115457e+04 2.67276657e+04 2.57188937e+04\n",
      " 2.68107501e+04 2.67892307e+04 2.47003983e+04 2.52539308e+04\n",
      " 2.40592695e+04 2.28149768e+04 2.36162973e+04 2.79474099e+04\n",
      " 2.28330459e+04 2.09151039e+04 2.23187275e+04 2.25380092e+04\n",
      " 2.44460794e+04 2.36816539e+04 2.02007059e+04 1.83658676e+04\n",
      " 1.95991558e+04 2.20766585e+04 2.15252098e+04 2.51452494e+04\n",
      " 1.60814181e+04 1.73123827e+04 1.66536584e+04 1.76274566e+04\n",
      " 1.57961327e+04 1.94071464e+04 1.58096626e+04 1.61261552e+04\n",
      " 1.67714769e+04 1.88872416e+04 1.57622189e+04 1.60617122e+04\n",
      " 1.78026523e+04 1.56667909e+04 1.56708107e+04 1.62503969e+04\n",
      " 1.80021805e+04 1.72203876e+04 1.91989077e+04 1.80276566e+04\n",
      " 1.94692838e+04 2.47606303e+04 1.05090021e+05]\n",
      "inferring η(t)\n",
      "initial objective -2.366510e+08\n",
      "iteration 2426, objective -2.379e+08, relative change 7.691e-13                        \n",
      "relative change in objective function 7.7e-13 is within tolerance 1e-12 after 2426 iterations\n"
     ]
    }
   ],
   "source": [
    "t = np.logspace(np.log10(1), np.log10(1000000), 50)\n",
    "mu = 3e-8\n",
    "#mu = 1e-7\n",
    "bps = 10000\n",
    "c = 1.6e-8\n",
    "\n",
    "sfs_files = glob(\"../data/angsd_pi/v5--LR--Palmar_Chico*.sfs\")\n",
    "sfs_list = []\n",
    "\n",
    "for sfs_file in sfs_files:\n",
    "    with open(sfs_file) as f:\n",
    "        sfs = f.readlines()[0].split()\n",
    "        sfs_chr = np.array([float(s) for s in sfs])\n",
    "        sfs_list.append(sfs_chr)\n",
    "\n",
    "sfs_array = np.asarray(sfs_list)\n",
    "sfs_all = sfs_array.sum(axis=0)\n",
    "print(sfs_all)\n",
    "\n",
    "ksfs = mushi.kSFS(np.array(sfs_all[1:-1]))\n",
    "ksfs.infer_history(t, mu0 = mu*sum(sfs_all), infer_mu=False, folded = False,\n",
    "                   alpha_tv=1e1, alpha_spline=1e1, alpha_ridge = 1e-4,\n",
    "                   tol=1e-12, verbose=True, max_iter = 5000)"
   ]
  },
  {
   "cell_type": "code",
   "execution_count": 5,
   "metadata": {},
   "outputs": [
    {
     "data": {
      "image/png": "[encoded data removed]",
      "text/plain": [
       "<Figure size 432x288 with 1 Axes>"
      ]
     },
     "metadata": {
      "needs_background": "light"
     },
     "output_type": "display_data"
    },
    {
     "name": "stdout",
     "output_type": "stream",
     "text": [
      "Rectangle(xy=(350, 0), width=1000, height=1e+07, angle=0)\n"
     ]
    },
    {
     "data": {
      "image/png": "[encoded data removed]",
      "text/plain": [
       "<Figure size 432x288 with 1 Axes>"
      ]
     },
     "metadata": {
      "needs_background": "light"
     },
     "output_type": "display_data"
    },
    {
     "data": {
      "image/png": "[encoded data removed]",
      "text/plain": [
       "<Figure size 432x288 with 1 Axes>"
      ]
     },
     "metadata": {
      "needs_background": "light"
     },
     "output_type": "display_data"
    },
    {
     "data": {
      "image/png": "[encoded data removed]",
      "text/plain": [
       "<Figure size 432x288 with 1 Axes>"
      ]
     },
     "metadata": {
      "needs_background": "light"
     },
     "output_type": "display_data"
    },
    {
     "data": {
      "image/png": "[encoded data removed]",
      "text/plain": [
       "<Figure size 432x288 with 1 Axes>"
      ]
     },
     "metadata": {
      "needs_background": "light"
     },
     "output_type": "display_data"
    }
   ],
   "source": [
    "ksfs.plot_total()\n",
    "plt.show()\n",
    "plt.xscale('log')\n",
    "plt.yscale('log')\n",
    "\n",
    "fig, ax = plt.subplots()\n",
    "ksfs.eta.plot()\n",
    "plt.plot((8000, 12000), (0, 1e7))\n",
    "plt.plot((350, 350), (0, 1e7))\n",
    "plt.plot((500, 500), (0, 1e7))\n",
    "rect = Rectangle((350,0), 1000, 1e7, color = 'black', fill = True, alpha = 1)\n",
    "print(rect)\n",
    "plt.show()\n",
    "plt.plot(sfs_all[1:-1])\n",
    "plt.show()\n",
    "\n",
    "plt.plot(t, ksfs.tmrca_cdf(ksfs.eta))\n",
    "plt.xlabel('$t$')\n",
    "plt.ylabel('TMRCA CDF')\n",
    "plt.ylim([0, 1])\n",
    "plt.xscale('log')\n",
    "plt.show()\n"
   ]
  },
  {
   "cell_type": "code",
   "execution_count": 6,
   "metadata": {},
   "outputs": [
    {
     "data": {
      "image/png": "[encoded data removed]",
      "text/plain": [
       "<Figure size 432x288 with 1 Axes>"
      ]
     },
     "metadata": {
      "needs_background": "light"
     },
     "output_type": "display_data"
    }
   ],
   "source": [
    "fig, ax = plt.subplots()\n",
    "Nt = ksfs.eta.vals\n",
    "T = ksfs.eta.change_points\n",
    "rect1 = Rectangle((350,1e2), 200, 1e7, color = 'black', fill = True, alpha = 0.5)\n",
    "rect2 = Rectangle((8000,1e2), 4000, 1e7, color = 'black', fill = True, alpha = 0.25)\n",
    "ax.add_patch(rect1)\n",
    "ax.add_patch(rect2)\n",
    "plt.plot(T, Nt[1:])\n",
    "plt.xscale('log')\n",
    "plt.yscale('log')\n",
    "plt.ylabel(r'$\\eta(t)$')\n",
    "plt.ylabel('t (generations ago)')\n",
    "plt.show()\n"
   ]
  },
  {
   "cell_type": "code",
   "execution_count": 7,
   "metadata": {},
   "outputs": [
    {
     "data": {
      "image/png": "[encoded data removed]",
      "text/plain": [
       "<Figure size 432x288 with 1 Axes>"
      ]
     },
     "metadata": {
      "needs_background": "light"
     },
     "output_type": "display_data"
    }
   ],
   "source": [
    "import matplotlib.pyplot as plt\n",
    "import matplotlib.patches as patches\n",
    "from PIL import Image\n",
    "\n",
    "im = Image.open('../figures/raw_tree.png')\n",
    "\n",
    "# Create figure and axes\n",
    "fig, ax = plt.subplots()\n",
    "\n",
    "# Display the image\n",
    "ax.imshow(im)\n",
    "\n",
    "# Create a Rectangle patch\n",
    "rect = Rectangle((50, 100), 40, 30, linewidth=1, edgecolor='r', facecolor='red')\n",
    "\n",
    "# Add the patch to the Axes\n",
    "ax.add_patch(rect)\n",
    "\n",
    "plt.show()\n"
   ]
  },
  {
   "cell_type": "code",
   "execution_count": 15,
   "metadata": {},
   "outputs": [],
   "source": [
    "Nt = ksfs.eta.vals\n",
    "T = ksfs.eta.change_points\n",
    "\n",
    "N_0 = Nt[0] / 2\n",
    "msp_N = Nt[1:] / 2\n",
    "msp_T = T\n",
    "nsamp = len(sfs_all)-1\n",
    "\n",
    "#ms_N = Nt[1:]/N_0\n",
    "#ms_T = T/(4*N_0)\n",
    "\n",
    "\n",
    "population_configurations = [msprime.PopulationConfiguration(sample_size = nsamp, initial_size = N_0)]\n",
    "demography_list = [msprime.PopulationParametersChange(time = t, initial_size = n) for t, n, in zip(msp_T, msp_N)]\n",
    "\n",
    "ts_mushi = msprime.simulate(\n",
    "    population_configurations=population_configurations, \n",
    "    demographic_events = demography_list, \n",
    "    #Ne = N_0, sample_size = nsamp,\n",
    "    #length = bps, \n",
    "    length = 5e6, \n",
    "    recombination_rate = c, \n",
    "    mutation_rate = mu, \n",
    "    num_replicates = 1\n",
    ")\n",
    "\n",
    "#ts_mushi, ts_mushi_copy = tee(ts_mushi)\n",
    "\n",
    "#pi = [ts.diversity() for ts in ts_mushi]\n",
    "#td = [ts.Tajimas_D() for ts in ts_mushi]\n",
    "\n",
    "#print(np.nanmean(list(map(lambda a : [a.diversity().item(), a.Tajimas_D().item()], ts_mushi)), axis=0))\n",
    "#list(map(lambda a : [a.diversity().item(), a.Tajimas_D().item()], ts_mushi))\n"
   ]
  },
  {
   "cell_type": "code",
   "execution_count": 16,
   "metadata": {},
   "outputs": [],
   "source": [
    "ts = next(ts_mushi)\n",
    "ts = msprime.mutate(ts, rate=mu, model=msprime.InfiniteSites(alphabet=msprime.NUCLEOTIDES))\n",
    "with open(\"../test.vcf\", \"w\") as vcf_file:\n",
    "    ts.write_vcf(vcf_file, ploidy=2)"
   ]
  },
  {
   "cell_type": "code",
   "execution_count": 17,
   "metadata": {},
   "outputs": [
    {
     "name": "stdout",
     "output_type": "stream",
     "text": [
      "Program           :  ibdseq r1206  (max memory: 3072 MB)\n",
      "Start Time        :  01:18 PM PDT on 08 Apr 2021\n",
      "\n",
      "Parameters\n",
      "  gt              :  ../test.vcf\n",
      "  out             :  ../test_ibdseq.txt\n",
      "  minalleles      :  2\n",
      "  ibdlod          :  3.0\n",
      "  ibdtrim         :  0.0\n",
      "  errormax        :  0.001\n",
      "  errorprop       :  0.25\n",
      "  r2window        :  500\n",
      "  r2max           :  0.7\n",
      "  nthreads        :  2\n",
      "\n",
      "Estimated finish  : 01:27 PM PDT on 08 Apr 2021\n",
      "\n",
      "Data Statistics\n",
      "  samples         :  55\n",
      "  markers         :  217745\n",
      "   >= minalleles  :  186417\n",
      "   LD-thinned     :  52416  (24% of markers)\n",
      "  segments/sample :  510.4\n",
      "  mean IBD length :  0.04 Mb\n",
      "  mean IBD depth  :  8.8\n",
      "\n",
      "Wallclock Time:   :  1 minutes 5 seconds\n",
      "End Time          :  01:19 PM PDT on 08 Apr 2021\n"
     ]
    }
   ],
   "source": [
    "%%bash \n",
    "java -jar ../src/ibdseq.r1206.jar gt=../test.vcf out=../test_ibdseq.txt nthreads=2 r2max=0.7"
   ]
  },
  {
   "cell_type": "code",
   "execution_count": 44,
   "metadata": {},
   "outputs": [
    {
     "name": "stdout",
     "output_type": "stream",
     "text": [
      "inferring η(t)\n",
      "initial objective -2.783152e+08\n",
      "iteration 361, objective -2.805e+08, relative change 7.942e-13        \n",
      "relative change in objective function 7.9e-13 is within tolerance 1e-12 after 361 iterations\n",
      "inferring η(t)\n",
      "initial objective -1.011550e+08\n",
      "iteration 718, objective -1.017e+08, relative change 2.513e-13        \n",
      "relative change in objective function 2.5e-13 is within tolerance 1e-12 after 718 iterations\n"
     ]
    }
   ],
   "source": [
    "def sim_hbd(file_glob, vcfout, hbdout, mu = 3e-8, c = 1.6e-8, bps = 5e6):\n",
    "    \n",
    "    t = np.logspace(np.log10(1), np.log10(1000000), 50)\n",
    "    sfs_files = glob(file_glob)\n",
    "    sfs_list = []\n",
    "\n",
    "    for sfs_file in sfs_files:\n",
    "        with open(sfs_file) as f:\n",
    "            sfs = f.readlines()[0].split()\n",
    "            sfs_chr = np.array([float(s) for s in sfs])\n",
    "            sfs_list.append(sfs_chr)\n",
    "\n",
    "    sfs_array = np.asarray(sfs_list)\n",
    "    sfs_all = sfs_array.sum(axis=0)\n",
    "\n",
    "    ksfs = mushi.kSFS(np.array(sfs_all[1:-1]))\n",
    "    ksfs.infer_history(t, mu0 = mu*sum(sfs_all), infer_mu=False, folded = False,\n",
    "                       alpha_tv=1e4, alpha_spline=1e4, alpha_ridge = 1e-1,\n",
    "                       tol=1e-12, verbose=True, max_iter = 5000)\n",
    "\n",
    "    Nt = ksfs.eta.vals\n",
    "    T = ksfs.eta.change_points\n",
    "\n",
    "    N_0 = Nt[0] / 2\n",
    "    msp_N = Nt[1:] / 2\n",
    "    msp_T = T\n",
    "    nsamp = len(sfs_all)-1\n",
    "\n",
    "    population_configurations = [msprime.PopulationConfiguration(sample_size = nsamp, initial_size = N_0)]\n",
    "    demography_list = [msprime.PopulationParametersChange(time = t, initial_size = n) for t, n, in zip(msp_T, msp_N)]\n",
    "\n",
    "    ts_mushi = msprime.simulate(\n",
    "        population_configurations=population_configurations, \n",
    "        demographic_events = demography_list, \n",
    "        length = bps, \n",
    "        recombination_rate = c, \n",
    "        mutation_rate = mu, \n",
    "        num_replicates = 1\n",
    "    )\n",
    "    \n",
    "    \n",
    "    ts = next(ts_mushi)\n",
    "    ts = msprime.mutate(ts, rate=mu, model=msprime.InfiniteSites(alphabet=msprime.NUCLEOTIDES))\n",
    "    \n",
    "    with open(vcfout, \"w\") as vcf_file:\n",
    "        ts.write_vcf(vcf_file, ploidy=2)\n",
    "    \n",
    "    os.system(f\"java -jar ../src/ibdseq.r1206.jar gt={vcfout} out={hbdout} nthreads=2 r2max=0.7\")\n",
    "\n",
    "sim_hbd(\"../data/angsd_pi/v5--Teo--random1_Palmar_Chico*.sfs\", \"../testPC.vcf\", \"../testPC_ibdseq.txt\", mu = 3e-8, c = 1.6e-8, bps = 1e7)\n",
    "sim_hbd(\"../data/angsd_pi/v5--Teo--San_Lorenzo*.sfs\", \"../testSLO.vcf\", \"../testSLO_ibdseq.txt\", mu = 3e-8, c = 1.6e-8, bps = 1e7)"
   ]
  },
  {
   "cell_type": "code",
   "execution_count": null,
   "metadata": {},
   "outputs": [],
   "source": [
    "%load_ext rpy2.ipython"
   ]
  },
  {
   "cell_type": "code",
   "execution_count": 45,
   "metadata": {},
   "outputs": [
    {
     "name": "stderr",
     "output_type": "stream",
     "text": [
      "WARNING:rpy2.rinterface_lib.callbacks:R[write to console]: \n",
      "WARNING:rpy2.rinterface_lib.callbacks:R[write to console]: \u001b[1mindexing\u001b[0m \u001b[34mtestSLO_ibdseq.txt.hbd\u001b[0m [=========================] \u001b[32m143.69MB/s\u001b[0m, eta: \u001b[36m 0s\u001b[0m\n",
      "                                                                                                                   \n",
      "WARNING:rpy2.rinterface_lib.callbacks:R[write to console]: \n",
      "WARNING:rpy2.rinterface_lib.callbacks:R[write to console]: \u001b[1mRows:\u001b[22m 136\n",
      "\u001b[1mColumns:\u001b[22m 8\n",
      "\u001b[1mDelimiter:\u001b[22m \"\\t\"\n",
      "\u001b[31mchr\u001b[39m [2]: id1, id2\n",
      "\u001b[32mdbl\u001b[39m [6]: hidx1, hidx2, chrom, start, end, lod\n",
      "\n",
      "\u001b[90mUse `spec()` to retrieve the guessed column specification\u001b[39m\n",
      "\u001b[90mPass a specification to the `col_types` argument to quiet this message\u001b[39m\n",
      "\n",
      "WARNING:rpy2.rinterface_lib.callbacks:R[write to console]: \n",
      "WARNING:rpy2.rinterface_lib.callbacks:R[write to console]: \u001b[1mindexing\u001b[0m \u001b[34mtestPC_ibdseq.txt.hbd\u001b[0m [==========================] \u001b[32m708.36MB/s\u001b[0m, eta: \u001b[36m 0s\u001b[0m\n",
      "                                                                                                                   \n",
      "WARNING:rpy2.rinterface_lib.callbacks:R[write to console]: \n",
      "WARNING:rpy2.rinterface_lib.callbacks:R[write to console]: \u001b[1mRows:\u001b[22m 529\n",
      "\u001b[1mColumns:\u001b[22m 8\n",
      "\u001b[1mDelimiter:\u001b[22m \"\\t\"\n",
      "\u001b[31mchr\u001b[39m [2]: id1, id2\n",
      "\u001b[32mdbl\u001b[39m [6]: hidx1, hidx2, chrom, start, end, lod\n",
      "\n",
      "\u001b[90mUse `spec()` to retrieve the guessed column specification\u001b[39m\n",
      "\u001b[90mPass a specification to the `col_types` argument to quiet this message\u001b[39m\n",
      "\n"
     ]
    },
    {
     "name": "stdout",
     "output_type": "stream",
     "text": [
      "[1] 0\n"
     ]
    },
    {
     "data": {
      "image/png": "[encoded data removed]"
     },
     "metadata": {},
     "output_type": "display_data"
    }
   ],
   "source": [
    "%%R \n",
    "\n",
    "library(tidyverse)\n",
    "\n",
    "slo <- vroom::vroom(\n",
    "    \"../testSLO_ibdseq.txt.hbd\", \n",
    "    col_names = c(\"id1\", \"hidx1\", \"id2\", \"hidx2\", \"chrom\", \"start\", \"end\", \"lod\")\n",
    ") %>%\n",
    "  mutate(hbd_len = end-start) %>%\n",
    "  arrange(hbd_len) %>%\n",
    "  mutate(hbd_sum = log10(cumsum(hbd_len)))\n",
    "  \n",
    "\n",
    "pc <- vroom::vroom(\n",
    "    \"../testPC_ibdseq.txt.hbd\", \n",
    "    col_names = c(\"id1\", \"hidx1\", \"id2\", \"hidx2\", \"chrom\", \"start\", \"end\", \"lod\")\n",
    ") %>%\n",
    "  mutate(hbd_len = end-start) %>%\n",
    "  arrange(hbd_len) %>%\n",
    "  mutate(hbd_sum = log10(cumsum(hbd_len)))\n",
    "  \n",
    "print(sum(pc$len < 0))\n",
    "\n",
    "ggplot() +\n",
    "  geom_line(data = pc, mapping = aes(hbd_len, hbd_sum), col = \"violetred\") +\n",
    "  geom_line(data = slo, mapping = aes(hbd_len, hbd_sum), color = \"purple\") +\n",
    "  cowplot::theme_cowplot()\n"
   ]
  },
  {
   "cell_type": "code",
   "execution_count": null,
   "metadata": {},
   "outputs": [],
   "source": []
  },
  {
   "cell_type": "code",
   "execution_count": 7,
   "metadata": {},
   "outputs": [
    {
     "data": {
      "text/plain": [
       "DeviceArray([1.00000000e+00, 1.00000000e+00, 1.00000000e+00,\n",
       "             1.00000000e+00, 1.00000000e+00, 1.00000000e+00,\n",
       "             9.66072389e-01, 7.93645538e-01, 5.28008688e-01,\n",
       "             2.55915902e-01, 7.20107426e-02, 1.18272776e-02,\n",
       "             1.29746875e-02, 3.30243121e-02, 7.25149090e-02,\n",
       "             1.70674288e-01, 3.42871518e-01, 6.25276123e-01,\n",
       "             1.08425810e+00, 1.79368552e+00, 2.82146680e+00,\n",
       "             4.25945932e+00, 6.24490127e+00, 8.97284120e+00,\n",
       "             1.27364725e+01, 1.77760311e+01, 2.30389082e+01,\n",
       "             2.40653086e+01, 2.47204914e+01, 2.47204914e+01,\n",
       "             2.47204914e+01, 2.47204914e+01, 2.28394365e+01,\n",
       "             1.12784062e+01, 2.46540819e+00, 2.67382738e+00,\n",
       "             3.62038949e+00, 3.11484940e+00, 2.12332806e+00,\n",
       "             4.94473143e+00, 4.86947622e+00, 2.95291728e-01,\n",
       "             1.22696501e+00, 2.63287490e+00, 4.75334062e+00,\n",
       "             5.63043138e+00, 5.61159454e+00, 5.70818714e+00,\n",
       "             5.69691053e+00, 5.69691053e+00], dtype=float64)"
      ]
     },
     "execution_count": 7,
     "metadata": {},
     "output_type": "execute_result"
    }
   ],
   "source": [
    "msp_N/N_0"
   ]
  },
  {
   "cell_type": "code",
   "execution_count": 89,
   "metadata": {},
   "outputs": [
    {
     "data": {
      "text/plain": [
       "0.040563636363636364"
      ]
     },
     "execution_count": 89,
     "metadata": {},
     "output_type": "execute_result"
    }
   ],
   "source": [
    "2231 / 55000"
   ]
  },
  {
   "cell_type": "code",
   "execution_count": 90,
   "metadata": {
    "scrolled": true
   },
   "outputs": [
    {
     "name": "stdout",
     "output_type": "stream",
     "text": [
      "12641, 12641, 12641, 12641, 12641, 12641, 12641, 35289, 77809, 98580, 98580, 98580, 98580, 98580, 98580, 86369, 68814, 52141, 39284, 30913, 26715, 26320, 26320, 26320, 26320, 26320, 26320, 26320, 26320, 26320, 26320, 26320, 26320, 26320, 26320, 26320, 26320, 26320, 26320, 26320, 26320, 26320, 26320, 26320, 26320, 26320, 26320, 26320, 26320\n",
      "12641, 12641, 12641, 12641, 12641, 12641, 12641, 12641, 35289, 77809, 98580, 98580, 98580, 98580, 98580, 98580, 86369, 68814, 52141, 39284, 30913, 26715, 26320, 26320, 26320, 26320, 26320, 26320, 26320, 26320, 26320, 26320, 26320, 26320, 26320, 26320, 26320, 26320, 26320, 26320, 26320, 26320, 26320, 26320, 26320, 26320, 26320, 26320, 26320\n",
      "1, 44102, 78478, 105274, 126161, 142443, 155135, 165028, 172740, 178751, 183437, 187089, 189936, 192156, 193886, 195234, 196285, 197105, 197744, 198241, 198630, 198932, 199168, 199352, 199495, 199607, 199694, 199762, 199814, 199856, 199888, 199913, 199932, 199948, 199960, 199969, 199976, 199982, 199986, 199989, 199992, 199994, 199996, 199997, 199998, 199999, 199999, 200000, 200000\n",
      "44101, 78477, 105273, 126160, 142442, 155134, 165027, 172739, 178750, 183436, 187088, 189935, 192155, 193885, 195233, 196284, 197104, 197743, 198240, 198629, 198931, 199167, 199351, 199494, 199606, 199693, 199761, 199813, 199855, 199887, 199912, 199931, 199947, 199959, 199968, 199975, 199981, 199985, 199988, 199991, 199993, 199995, 199996, 199997, 199998, 199998, 199999, 199999, 199999\n"
     ]
    }
   ],
   "source": [
    "N_0 = Nt[0] / 2\n",
    "msp_N = (Nt[1:] / 2).astype('int')\n",
    "msp_T = (T).astype('int')\n",
    "nsamp = len(sfs_all)-1\n",
    "\n",
    "N_1 = msp_N[0:-1][::-1]\n",
    "N_2 = msp_N[1:][::-1]\n",
    "\n",
    "T_1 = msp_T[0:-1][::-1]\n",
    "T_2 = msp_T[1:][::-1]\n",
    "\n",
    "print(', '.join([str(i) for i in N_1]))\n",
    "print(', '.join([str(i) for i in N_2]))\n",
    "\n",
    "print(', '.join([str(max(msp_T) - i + 1) for i in T_2]))\n",
    "print(', '.join([str(max(msp_T) - i) for i in T_1]))\n"
   ]
  },
  {
   "cell_type": "code",
   "execution_count": 91,
   "metadata": {},
   "outputs": [
    {
     "name": "stdout",
     "output_type": "stream",
     "text": [
      "26320.720737689062\n"
     ]
    },
    {
     "data": {
      "text/plain": [
       "87676.48367490312"
      ]
     },
     "execution_count": 91,
     "metadata": {},
     "output_type": "execute_result"
    }
   ],
   "source": [
    "print(N_0)\n",
    "((462.9318338034885  + 694.3977507052326)/2)/(4*3e-8*55000)"
   ]
  },
  {
   "cell_type": "code",
   "execution_count": 97,
   "metadata": {},
   "outputs": [
    {
     "name": "stdout",
     "output_type": "stream",
     "text": [
      "175.352\n",
      "52.64144147537812\n"
     ]
    }
   ],
   "source": [
    "print(2 * 87676 * 0.001)\n",
    "print(2 * N_0 * 0.001)"
   ]
  },
  {
   "cell_type": "code",
   "execution_count": null,
   "metadata": {},
   "outputs": [],
   "source": []
  }
 ],
 "metadata": {
  "kernelspec": {
   "display_name": "Python 3",
   "language": "python",
   "name": "python3"
  },
  "language_info": {
   "codemirror_mode": {
    "name": "ipython",
    "version": 3
   },
   "file_extension": ".py",
   "mimetype": "text/x-python",
   "name": "python",
   "nbconvert_exporter": "python",
   "pygments_lexer": "ipython3",
   "version": "3.7.8"
  }
 },
 "nbformat": 4,
 "nbformat_minor": 4
}
