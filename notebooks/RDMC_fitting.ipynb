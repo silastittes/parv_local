{
 "cells": [
  {
   "cell_type": "code",
   "execution_count": 1,
   "metadata": {},
   "outputs": [
    {
     "name": "stderr",
     "output_type": "stream",
     "text": [
      "Loading required package: MASS\n",
      "\n",
      "Loading required package: dplyr\n",
      "\n",
      "\n",
      "Attaching package: ‘dplyr’\n",
      "\n",
      "\n",
      "The following object is masked from ‘package:MASS’:\n",
      "\n",
      "    select\n",
      "\n",
      "\n",
      "The following objects are masked from ‘package:stats’:\n",
      "\n",
      "    filter, lag\n",
      "\n",
      "\n",
      "The following objects are masked from ‘package:base’:\n",
      "\n",
      "    intersect, setdiff, setequal, union\n",
      "\n",
      "\n",
      "Loading required package: tidyr\n",
      "\n",
      "Loading required package: purrr\n",
      "\n",
      "Loading required package: magrittr\n",
      "\n",
      "\n",
      "Attaching package: ‘magrittr’\n",
      "\n",
      "\n",
      "The following object is masked from ‘package:purrr’:\n",
      "\n",
      "    set_names\n",
      "\n",
      "\n",
      "The following object is masked from ‘package:tidyr’:\n",
      "\n",
      "    extract\n",
      "\n",
      "\n",
      "Loading required package: rlang\n",
      "\n",
      "\n",
      "Attaching package: ‘rlang’\n",
      "\n",
      "\n",
      "The following object is masked from ‘package:magrittr’:\n",
      "\n",
      "    set_names\n",
      "\n",
      "\n",
      "The following objects are masked from ‘package:purrr’:\n",
      "\n",
      "    %@%, as_function, flatten, flatten_chr, flatten_dbl, flatten_int,\n",
      "    flatten_lgl, flatten_raw, invoke, list_along, modify, prepend,\n",
      "    splice\n",
      "\n",
      "\n",
      "── \u001b[1mAttaching packages\u001b[22m ─────────────────────────────────────────────────────────────────────────────────────────────────────── tidyverse 1.3.0 ──\n",
      "\n",
      "\u001b[32m✔\u001b[39m \u001b[34mggplot2\u001b[39m 3.3.2     \u001b[32m✔\u001b[39m \u001b[34mstringr\u001b[39m 1.4.0\n",
      "\u001b[32m✔\u001b[39m \u001b[34mtibble \u001b[39m 3.0.5     \u001b[32m✔\u001b[39m \u001b[34mforcats\u001b[39m 0.5.0\n",
      "\u001b[32m✔\u001b[39m \u001b[34mreadr  \u001b[39m 1.4.0     \n",
      "\n",
      "── \u001b[1mConflicts\u001b[22m ────────────────────────────────────────────────────────────────────────────────────────────────────────── tidyverse_conflicts() ──\n",
      "\u001b[31m✖\u001b[39m \u001b[34mrlang\u001b[39m::\u001b[32m%@%()\u001b[39m         masks \u001b[34mpurrr\u001b[39m::%@%()\n",
      "\u001b[31m✖\u001b[39m \u001b[34mrlang\u001b[39m::\u001b[32mas_function()\u001b[39m masks \u001b[34mpurrr\u001b[39m::as_function()\n",
      "\u001b[31m✖\u001b[39m \u001b[34mmagrittr\u001b[39m::\u001b[32mextract()\u001b[39m  masks \u001b[34mtidyr\u001b[39m::extract()\n",
      "\u001b[31m✖\u001b[39m \u001b[34mdplyr\u001b[39m::\u001b[32mfilter()\u001b[39m      masks \u001b[34mstats\u001b[39m::filter()\n",
      "\u001b[31m✖\u001b[39m \u001b[34mrlang\u001b[39m::\u001b[32mflatten()\u001b[39m     masks \u001b[34mpurrr\u001b[39m::flatten()\n",
      "\u001b[31m✖\u001b[39m \u001b[34mrlang\u001b[39m::\u001b[32mflatten_chr()\u001b[39m masks \u001b[34mpurrr\u001b[39m::flatten_chr()\n",
      "\u001b[31m✖\u001b[39m \u001b[34mrlang\u001b[39m::\u001b[32mflatten_dbl()\u001b[39m masks \u001b[34mpurrr\u001b[39m::flatten_dbl()\n",
      "\u001b[31m✖\u001b[39m \u001b[34mrlang\u001b[39m::\u001b[32mflatten_int()\u001b[39m masks \u001b[34mpurrr\u001b[39m::flatten_int()\n",
      "\u001b[31m✖\u001b[39m \u001b[34mrlang\u001b[39m::\u001b[32mflatten_lgl()\u001b[39m masks \u001b[34mpurrr\u001b[39m::flatten_lgl()\n",
      "\u001b[31m✖\u001b[39m \u001b[34mrlang\u001b[39m::\u001b[32mflatten_raw()\u001b[39m masks \u001b[34mpurrr\u001b[39m::flatten_raw()\n",
      "\u001b[31m✖\u001b[39m \u001b[34mrlang\u001b[39m::\u001b[32minvoke()\u001b[39m      masks \u001b[34mpurrr\u001b[39m::invoke()\n",
      "\u001b[31m✖\u001b[39m \u001b[34mdplyr\u001b[39m::\u001b[32mlag()\u001b[39m         masks \u001b[34mstats\u001b[39m::lag()\n",
      "\u001b[31m✖\u001b[39m \u001b[34mrlang\u001b[39m::\u001b[32mlist_along()\u001b[39m  masks \u001b[34mpurrr\u001b[39m::list_along()\n",
      "\u001b[31m✖\u001b[39m \u001b[34mrlang\u001b[39m::\u001b[32mmodify()\u001b[39m      masks \u001b[34mpurrr\u001b[39m::modify()\n",
      "\u001b[31m✖\u001b[39m \u001b[34mrlang\u001b[39m::\u001b[32mprepend()\u001b[39m     masks \u001b[34mpurrr\u001b[39m::prepend()\n",
      "\u001b[31m✖\u001b[39m \u001b[34mdplyr\u001b[39m::\u001b[32mselect()\u001b[39m      masks \u001b[34mMASS\u001b[39m::select()\n",
      "\u001b[31m✖\u001b[39m \u001b[34mrlang\u001b[39m::\u001b[32mset_names()\u001b[39m   masks \u001b[34mmagrittr\u001b[39m::set_names(), \u001b[34mpurrr\u001b[39m::set_names()\n",
      "\u001b[31m✖\u001b[39m \u001b[34mrlang\u001b[39m::\u001b[32msplice()\u001b[39m      masks \u001b[34mpurrr\u001b[39m::splice()\n",
      "\n",
      "\n",
      "Attaching package: ‘patchwork’\n",
      "\n",
      "\n",
      "The following object is masked from ‘package:MASS’:\n",
      "\n",
      "    area\n",
      "\n",
      "\n"
     ]
    }
   ],
   "source": [
    "library(rdmc)\n",
    "library(tidyverse)\n",
    "library(ape)\n",
    "theme_set(cowplot::theme_cowplot(15))\n",
    "library(patchwork)\n",
    "options(repr.plot.width = 10, repr.plot.height = 7, repr.plot.res = 200)"
   ]
  },
  {
   "cell_type": "code",
   "execution_count": 2,
   "metadata": {
    "scrolled": false
   },
   "outputs": [
    {
     "name": "stderr",
     "output_type": "stream",
     "text": [
      "\n",
      "\u001b[36m──\u001b[39m \u001b[1m\u001b[1mColumn specification\u001b[1m\u001b[22m \u001b[36m────────────────────────────────────────────────────────────────────────────────────────────────────────────────────────\u001b[39m\n",
      "cols(\n",
      "  chr = \u001b[32mcol_double()\u001b[39m,\n",
      "  pos = \u001b[32mcol_double()\u001b[39m,\n",
      "  cm = \u001b[32mcol_double()\u001b[39m\n",
      ")\n",
      "\n",
      "\n"
     ]
    },
    {
     "data": {
      "text/html": [
       "1.641220914205e-08"
      ],
      "text/latex": [
       "1.641220914205e-08"
      ],
      "text/markdown": [
       "1.641220914205e-08"
      ],
      "text/plain": [
       "[1] 1.641221e-08"
      ]
     },
     "metadata": {},
     "output_type": "display_data"
    },
    {
     "name": "stderr",
     "output_type": "stream",
     "text": [
      "\u001b[1mRows:\u001b[22m 6,490\n",
      "\u001b[1mColumns:\u001b[22m 3\n",
      "\u001b[1mDelimiter:\u001b[22m \"\\t\"\n",
      "\u001b[32mdbl\u001b[39m [3]: chr, pos, cm\n",
      "\n",
      "\u001b[90mUse `spec()` to retrieve the guessed column specification\u001b[39m\n",
      "\u001b[90mPass a specification to the `col_types` argument to quiet this message\u001b[39m\n",
      "\n"
     ]
    },
    {
     "data": {
      "text/html": [
       "1.641220914205e-08"
      ],
      "text/latex": [
       "1.641220914205e-08"
      ],
      "text/markdown": [
       "1.641220914205e-08"
      ],
      "text/plain": [
       "[1] 1.641221e-08"
      ]
     },
     "metadata": {},
     "output_type": "display_data"
    }
   ],
   "source": [
    "gen_map_all_chr <- read_delim(\"../data/map/ogut_v5.map.txt\", delim = \"\\t\") %>% \n",
    "  drop_na() %>%\n",
    "  mutate(cm = cm + abs(min(cm))) %>%\n",
    "  group_by(chr) %>% \n",
    "  group_modify(~{\n",
    "    df1 <- slice(.x, -nrow(.x))\n",
    "    df2 <- slice(.x, -1)\n",
    "    to_keep <- df2$cm > df1$cm & df2$pos > df1$pos\n",
    "    df1 <- df1[to_keep, ]\n",
    "    df2 <- df2[to_keep, ]\n",
    "    cm_mb <- tibble(cm_mb = 1e6*(df2$cm - df1$cm)/(df2$pos - df1$pos))\n",
    "    cm_bp <- tibble(rr = (df2$cm - df1$cm)/(df2$pos - df1$pos)/100)\n",
    "    bind_cols(df2, cm_mb, cm_bp)\n",
    "  }) %>% \n",
    "  mutate(chr = paste0(\"chr\", chr))\n",
    "\n",
    "\n",
    "median(gen_map_all_chr$rr)\n",
    "\n",
    "get_rr <- function(genetic_df, sweep_chr, sweep_positions){\n",
    "  chr_df <- filter(genetic_df, chr == sweep_chr)\n",
    "  median(approx(x = chr_df$pos, y = chr_df$rr, xout = sweep_positions)$y)\n",
    "}\n",
    "\n",
    "get_cm <- function(genetic_df, sweep_chr, sweep_start, sweep_end){\n",
    "  chr_df <- filter(genetic_df, chr == sweep_chr)\n",
    "  cm_start <- approx(x = chr_df$pos, y = chr_df$cm, xout = sweep_start)$y\n",
    "  cm_end <- approx(x = chr_df$pos, y = chr_df$cm, xout = sweep_end)$y\n",
    "  cm_end - cm_start\n",
    "}\n",
    "\n",
    "\n",
    "gmap <- \"../data/map/ogut_v5.map.txt\"\n",
    "gen_map_all_chr <- vroom::vroom(gmap, delim = \"\\t\") %>%\n",
    "  drop_na() %>%\n",
    "  mutate(cm = cm + abs(min(cm))) %>%\n",
    "  group_by(chr) %>%\n",
    "  group_modify(~{\n",
    "    df1 <- slice(.x, -nrow(.x))\n",
    "    df2 <- slice(.x, -1)\n",
    "    to_keep <- df2$cm > df1$cm & df2$pos > df1$pos\n",
    "    df1 <- df1[to_keep, ]\n",
    "    df2 <- df2[to_keep, ]\n",
    "    cm_mb <- tibble(cm_mb = 1e6*(df2$cm - df1$cm)/(df2$pos - df1$pos))\n",
    "    cm_bp <- tibble(rr = (df2$cm - df1$cm)/(df2$pos - df1$pos)/100)\n",
    "    bind_cols(df2, cm_mb, cm_bp)\n",
    "  }) %>%\n",
    "  ungroup() %>% \n",
    "  mutate(chr = paste0(\"chr\", chr))\n",
    "\n",
    "median(gen_map_all_chr$rr)\n",
    "\n",
    "\n",
    "\n",
    "#how to get a constant density of samples over sweeps that vary in their **genetic** size (not physical)\n",
    "#get_cm(gen_map_all_chr, \"chr1\", sweep_freqs$end[1], tail(sweep_freqs$end, 1))"
   ]
  },
  {
   "cell_type": "code",
   "execution_count": 3,
   "metadata": {},
   "outputs": [
    {
     "data": {
      "text/html": [
       "1050"
      ],
      "text/latex": [
       "1050"
      ],
      "text/markdown": [
       "1050"
      ],
      "text/plain": [
       "[1] 1050"
      ]
     },
     "metadata": {},
     "output_type": "display_data"
    }
   ],
   "source": [
    "\n",
    "\n",
    "MIN_FREQ <- 1/20\n",
    "DEFAULT_SITES <- 1e4\n",
    "MAX_SITES <- 1e5\n",
    "MIN_SITES <- 1e3\n",
    "SNP_K  <- 250000\n",
    "\n",
    "s_file <- \"../data/rdmc/sweep_freq/v5--sweep--chr1--0--308452471_start31723921_end31727430_pops3-4.txt\"\n",
    "\n",
    "start <- str_split(s_file, \"start\", simplify = TRUE) %>% \n",
    "    `[`(2) %>% \n",
    "    str_split(\"_\", simplify = TRUE) %>% \n",
    "    `[`(1) %>% \n",
    "    as.numeric(c)\n",
    "\n",
    "end <- str_split(s_file, \"end\", simplify = TRUE) %>% \n",
    "    `[`(2) %>% \n",
    "    str_split(\"_\", simplify = TRUE) %>% \n",
    "    `[`(1) %>% \n",
    "    as.numeric(c)\n",
    "\n",
    "sweep_cM <- get_cm(gen_map_all_chr, \"chr1\", start, end)\n",
    "n_snps <- round(SNP_K*sweep_cM)\n",
    "if(is.na(n_snps)) n_snps <- DEFAULT_SITES\n",
    "\n",
    "n_sites <- case_when(\n",
    "    is.na(n_snps) ~ NA_real_,\n",
    "    n_snps >= MIN_SITES && n_snps <= MAX_SITES ~ n_snps,\n",
    "    n_snps < MIN_SITES ~ MIN_SITES,\n",
    "    n_snps > MAX_SITES ~ MAX_SITES,\n",
    ")\n",
    "\n",
    "n_snps"
   ]
  },
  {
   "cell_type": "code",
   "execution_count": 8,
   "metadata": {},
   "outputs": [
    {
     "name": "stdout",
     "output_type": "stream",
     "text": [
      "[1] \"here\"\n"
     ]
    },
    {
     "name": "stderr",
     "output_type": "stream",
     "text": [
      "\u001b[1mRows:\u001b[22m 22,969\n",
      "\u001b[1mColumns:\u001b[22m 14\n",
      "\u001b[1mDelimiter:\u001b[22m \"\\t\"\n",
      "\u001b[31mchr\u001b[39m [ 1]: chrom\n",
      "\u001b[32mdbl\u001b[39m [13]: start, end, v5--LR--Amatlan_de_Canas, v5--LR--Crucero_Lagunitas, v5--LR--Los_Gua...\n",
      "\n",
      "\u001b[90mUse `spec()` to retrieve the guessed column specification\u001b[39m\n",
      "\u001b[90mPass a specification to the `col_types` argument to quiet this message\u001b[39m\n",
      "\n"
     ]
    },
    {
     "data": {
      "text/html": [
       "<table>\n",
       "<caption>A tibble: 6 × 14</caption>\n",
       "<thead>\n",
       "\t<tr><th scope=col>chrom</th><th scope=col>start</th><th scope=col>end</th><th scope=col>v5--LR--Amatlan_de_Canas</th><th scope=col>v5--LR--Crucero_Lagunitas</th><th scope=col>v5--LR--Los_Guajes</th><th scope=col>v5--LR--random1_Palmar_Chico</th><th scope=col>v5--LR--San_Lorenzo</th><th scope=col>v5--Teo--Amatlan_de_Canas</th><th scope=col>v5--Teo--Crucero_Lagunitas</th><th scope=col>v5--Teo--El_Rodeo</th><th scope=col>v5--Teo--Los_Guajes</th><th scope=col>v5--Teo--random1_Palmar_Chico</th><th scope=col>v5--Teo--San_Lorenzo</th></tr>\n",
       "\t<tr><th scope=col>&lt;chr&gt;</th><th scope=col>&lt;dbl&gt;</th><th scope=col>&lt;dbl&gt;</th><th scope=col>&lt;dbl&gt;</th><th scope=col>&lt;dbl&gt;</th><th scope=col>&lt;dbl&gt;</th><th scope=col>&lt;dbl&gt;</th><th scope=col>&lt;dbl&gt;</th><th scope=col>&lt;dbl&gt;</th><th scope=col>&lt;dbl&gt;</th><th scope=col>&lt;dbl&gt;</th><th scope=col>&lt;dbl&gt;</th><th scope=col>&lt;dbl&gt;</th><th scope=col>&lt;dbl&gt;</th></tr>\n",
       "</thead>\n",
       "<tbody>\n",
       "\t<tr><td>chr10</td><td>100236986</td><td>100236987</td><td>0.00000</td><td>0.000000</td><td>0.00000</td><td>0e+00</td><td>0.000000</td><td>1e-06</td><td>1e-06</td><td>4e-06</td><td>0e+00</td><td>0</td><td>3e-06</td></tr>\n",
       "\t<tr><td>chr10</td><td>100236987</td><td>100236988</td><td>0.30554</td><td>0.062504</td><td>0.11333</td><td>4e-06</td><td>0.070145</td><td>1e-06</td><td>0e+00</td><td>4e-06</td><td>0e+00</td><td>0</td><td>2e-06</td></tr>\n",
       "\t<tr><td>chr10</td><td>100236988</td><td>100236989</td><td>0.00000</td><td>0.000000</td><td>0.00000</td><td>0e+00</td><td>0.000000</td><td>1e-06</td><td>1e-06</td><td>4e-06</td><td>1e-06</td><td>0</td><td>5e-06</td></tr>\n",
       "\t<tr><td>chr10</td><td>100236989</td><td>100236990</td><td>0.00000</td><td>0.000000</td><td>0.00000</td><td>0e+00</td><td>0.000000</td><td>1e-06</td><td>0e+00</td><td>6e-06</td><td>0e+00</td><td>0</td><td>2e-06</td></tr>\n",
       "\t<tr><td>chr10</td><td>100236990</td><td>100236991</td><td>0.00000</td><td>0.000000</td><td>0.00000</td><td>0e+00</td><td>0.000000</td><td>1e-06</td><td>1e-06</td><td>6e-06</td><td>1e-06</td><td>0</td><td>2e-06</td></tr>\n",
       "\t<tr><td>chr10</td><td>100236991</td><td>100236992</td><td>0.00000</td><td>0.000000</td><td>0.00000</td><td>0e+00</td><td>0.000000</td><td>1e-06</td><td>0e+00</td><td>6e-06</td><td>0e+00</td><td>0</td><td>2e-06</td></tr>\n",
       "</tbody>\n",
       "</table>\n"
      ],
      "text/latex": [
       "A tibble: 6 × 14\n",
       "\\begin{tabular}{llllllllllllll}\n",
       " chrom & start & end & v5--LR--Amatlan\\_de\\_Canas & v5--LR--Crucero\\_Lagunitas & v5--LR--Los\\_Guajes & v5--LR--random1\\_Palmar\\_Chico & v5--LR--San\\_Lorenzo & v5--Teo--Amatlan\\_de\\_Canas & v5--Teo--Crucero\\_Lagunitas & v5--Teo--El\\_Rodeo & v5--Teo--Los\\_Guajes & v5--Teo--random1\\_Palmar\\_Chico & v5--Teo--San\\_Lorenzo\\\\\n",
       " <chr> & <dbl> & <dbl> & <dbl> & <dbl> & <dbl> & <dbl> & <dbl> & <dbl> & <dbl> & <dbl> & <dbl> & <dbl> & <dbl>\\\\\n",
       "\\hline\n",
       "\t chr10 & 100236986 & 100236987 & 0.00000 & 0.000000 & 0.00000 & 0e+00 & 0.000000 & 1e-06 & 1e-06 & 4e-06 & 0e+00 & 0 & 3e-06\\\\\n",
       "\t chr10 & 100236987 & 100236988 & 0.30554 & 0.062504 & 0.11333 & 4e-06 & 0.070145 & 1e-06 & 0e+00 & 4e-06 & 0e+00 & 0 & 2e-06\\\\\n",
       "\t chr10 & 100236988 & 100236989 & 0.00000 & 0.000000 & 0.00000 & 0e+00 & 0.000000 & 1e-06 & 1e-06 & 4e-06 & 1e-06 & 0 & 5e-06\\\\\n",
       "\t chr10 & 100236989 & 100236990 & 0.00000 & 0.000000 & 0.00000 & 0e+00 & 0.000000 & 1e-06 & 0e+00 & 6e-06 & 0e+00 & 0 & 2e-06\\\\\n",
       "\t chr10 & 100236990 & 100236991 & 0.00000 & 0.000000 & 0.00000 & 0e+00 & 0.000000 & 1e-06 & 1e-06 & 6e-06 & 1e-06 & 0 & 2e-06\\\\\n",
       "\t chr10 & 100236991 & 100236992 & 0.00000 & 0.000000 & 0.00000 & 0e+00 & 0.000000 & 1e-06 & 0e+00 & 6e-06 & 0e+00 & 0 & 2e-06\\\\\n",
       "\\end{tabular}\n"
      ],
      "text/markdown": [
       "\n",
       "A tibble: 6 × 14\n",
       "\n",
       "| chrom &lt;chr&gt; | start &lt;dbl&gt; | end &lt;dbl&gt; | v5--LR--Amatlan_de_Canas &lt;dbl&gt; | v5--LR--Crucero_Lagunitas &lt;dbl&gt; | v5--LR--Los_Guajes &lt;dbl&gt; | v5--LR--random1_Palmar_Chico &lt;dbl&gt; | v5--LR--San_Lorenzo &lt;dbl&gt; | v5--Teo--Amatlan_de_Canas &lt;dbl&gt; | v5--Teo--Crucero_Lagunitas &lt;dbl&gt; | v5--Teo--El_Rodeo &lt;dbl&gt; | v5--Teo--Los_Guajes &lt;dbl&gt; | v5--Teo--random1_Palmar_Chico &lt;dbl&gt; | v5--Teo--San_Lorenzo &lt;dbl&gt; |\n",
       "|---|---|---|---|---|---|---|---|---|---|---|---|---|---|\n",
       "| chr10 | 100236986 | 100236987 | 0.00000 | 0.000000 | 0.00000 | 0e+00 | 0.000000 | 1e-06 | 1e-06 | 4e-06 | 0e+00 | 0 | 3e-06 |\n",
       "| chr10 | 100236987 | 100236988 | 0.30554 | 0.062504 | 0.11333 | 4e-06 | 0.070145 | 1e-06 | 0e+00 | 4e-06 | 0e+00 | 0 | 2e-06 |\n",
       "| chr10 | 100236988 | 100236989 | 0.00000 | 0.000000 | 0.00000 | 0e+00 | 0.000000 | 1e-06 | 1e-06 | 4e-06 | 1e-06 | 0 | 5e-06 |\n",
       "| chr10 | 100236989 | 100236990 | 0.00000 | 0.000000 | 0.00000 | 0e+00 | 0.000000 | 1e-06 | 0e+00 | 6e-06 | 0e+00 | 0 | 2e-06 |\n",
       "| chr10 | 100236990 | 100236991 | 0.00000 | 0.000000 | 0.00000 | 0e+00 | 0.000000 | 1e-06 | 1e-06 | 6e-06 | 1e-06 | 0 | 2e-06 |\n",
       "| chr10 | 100236991 | 100236992 | 0.00000 | 0.000000 | 0.00000 | 0e+00 | 0.000000 | 1e-06 | 0e+00 | 6e-06 | 0e+00 | 0 | 2e-06 |\n",
       "\n"
      ],
      "text/plain": [
       "  chrom start     end       v5--LR--Amatlan_de_Canas v5--LR--Crucero_Lagunitas\n",
       "1 chr10 100236986 100236987 0.00000                  0.000000                 \n",
       "2 chr10 100236987 100236988 0.30554                  0.062504                 \n",
       "3 chr10 100236988 100236989 0.00000                  0.000000                 \n",
       "4 chr10 100236989 100236990 0.00000                  0.000000                 \n",
       "5 chr10 100236990 100236991 0.00000                  0.000000                 \n",
       "6 chr10 100236991 100236992 0.00000                  0.000000                 \n",
       "  v5--LR--Los_Guajes v5--LR--random1_Palmar_Chico v5--LR--San_Lorenzo\n",
       "1 0.00000            0e+00                        0.000000           \n",
       "2 0.11333            4e-06                        0.070145           \n",
       "3 0.00000            0e+00                        0.000000           \n",
       "4 0.00000            0e+00                        0.000000           \n",
       "5 0.00000            0e+00                        0.000000           \n",
       "6 0.00000            0e+00                        0.000000           \n",
       "  v5--Teo--Amatlan_de_Canas v5--Teo--Crucero_Lagunitas v5--Teo--El_Rodeo\n",
       "1 1e-06                     1e-06                      4e-06            \n",
       "2 1e-06                     0e+00                      4e-06            \n",
       "3 1e-06                     1e-06                      4e-06            \n",
       "4 1e-06                     0e+00                      6e-06            \n",
       "5 1e-06                     1e-06                      6e-06            \n",
       "6 1e-06                     0e+00                      6e-06            \n",
       "  v5--Teo--Los_Guajes v5--Teo--random1_Palmar_Chico v5--Teo--San_Lorenzo\n",
       "1 0e+00               0                             3e-06               \n",
       "2 0e+00               0                             2e-06               \n",
       "3 1e-06               0                             5e-06               \n",
       "4 0e+00               0                             2e-06               \n",
       "5 1e-06               0                             2e-06               \n",
       "6 0e+00               0                             2e-06               "
      ]
     },
     "metadata": {},
     "output_type": "display_data"
    }
   ],
   "source": [
    "print(\"here\")\n",
    "vroom::vroom(file = s_file,   \n",
    "    delim = \"\\t\",\n",
    "    col_names = FREQ_POPS)  %>% head()\n"
   ]
  },
  {
   "cell_type": "code",
   "execution_count": 6,
   "metadata": {},
   "outputs": [
    {
     "name": "stderr",
     "output_type": "stream",
     "text": [
      "\u001b[1mRows:\u001b[22m 1,000,000\n",
      "\u001b[1mColumns:\u001b[22m 14\n",
      "\u001b[1mDelimiter:\u001b[22m \"\\t\"\n",
      "\u001b[31mchr\u001b[39m [ 1]: chrom\n",
      "\u001b[32mdbl\u001b[39m [13]: start, end, v5--LR--Amatlan_de_Canas, v5--LR--Crucero_Lagunitas, v5--LR--Los_Gua...\n",
      "\n",
      "\u001b[90mUse `spec()` to retrieve the guessed column specification\u001b[39m\n",
      "\u001b[90mPass a specification to the `col_types` argument to quiet this message\u001b[39m\n",
      "\n"
     ]
    },
    {
     "data": {
      "text/html": [
       "<style>\n",
       ".list-inline {list-style: none; margin:0; padding: 0}\n",
       ".list-inline>li {display: inline-block}\n",
       ".list-inline>li:not(:last-child)::after {content: \"\\00b7\"; padding: 0 .5ex}\n",
       "</style>\n",
       "<ol class=list-inline><li>1</li><li>4</li><li>10</li></ol>\n"
      ],
      "text/latex": [
       "\\begin{enumerate*}\n",
       "\\item 1\n",
       "\\item 4\n",
       "\\item 10\n",
       "\\end{enumerate*}\n"
      ],
      "text/markdown": [
       "1. 1\n",
       "2. 4\n",
       "3. 10\n",
       "\n",
       "\n"
      ],
      "text/plain": [
       "[1]  1  4 10"
      ]
     },
     "metadata": {},
     "output_type": "display_data"
    },
    {
     "name": "stderr",
     "output_type": "stream",
     "text": [
      "\u001b[1mRows:\u001b[22m 22,969\n",
      "\u001b[1mColumns:\u001b[22m 14\n",
      "\u001b[1mDelimiter:\u001b[22m \"\\t\"\n",
      "\u001b[31mchr\u001b[39m [ 1]: chrom\n",
      "\u001b[32mdbl\u001b[39m [13]: start, end, v5--LR--Amatlan_de_Canas, v5--LR--Crucero_Lagunitas, v5--LR--Los_Gua...\n",
      "\n",
      "\u001b[90mUse `spec()` to retrieve the guessed column specification\u001b[39m\n",
      "\u001b[90mPass a specification to the `col_types` argument to quiet this message\u001b[39m\n",
      "\n"
     ]
    },
    {
     "data": {
      "text/html": [
       "50000"
      ],
      "text/latex": [
       "50000"
      ],
      "text/markdown": [
       "50000"
      ],
      "text/plain": [
       "[1] 50000"
      ]
     },
     "metadata": {},
     "output_type": "display_data"
    },
    {
     "data": {
      "text/html": [
       "1050"
      ],
      "text/latex": [
       "1050"
      ],
      "text/markdown": [
       "1050"
      ],
      "text/plain": [
       "[1] 1050"
      ]
     },
     "metadata": {},
     "output_type": "display_data"
    },
    {
     "data": {
      "text/html": [
       "<table>\n",
       "<caption>A tibble: 10 × 14</caption>\n",
       "<thead>\n",
       "\t<tr><th scope=col>chrom</th><th scope=col>start</th><th scope=col>end</th><th scope=col>v5--LR--Amatlan_de_Canas</th><th scope=col>v5--LR--Crucero_Lagunitas</th><th scope=col>v5--LR--Los_Guajes</th><th scope=col>v5--LR--random1_Palmar_Chico</th><th scope=col>v5--LR--San_Lorenzo</th><th scope=col>v5--Teo--Amatlan_de_Canas</th><th scope=col>v5--Teo--Crucero_Lagunitas</th><th scope=col>v5--Teo--El_Rodeo</th><th scope=col>v5--Teo--Los_Guajes</th><th scope=col>v5--Teo--random1_Palmar_Chico</th><th scope=col>v5--Teo--San_Lorenzo</th></tr>\n",
       "\t<tr><th scope=col>&lt;chr&gt;</th><th scope=col>&lt;dbl&gt;</th><th scope=col>&lt;dbl&gt;</th><th scope=col>&lt;dbl&gt;</th><th scope=col>&lt;dbl&gt;</th><th scope=col>&lt;dbl&gt;</th><th scope=col>&lt;dbl&gt;</th><th scope=col>&lt;dbl&gt;</th><th scope=col>&lt;dbl&gt;</th><th scope=col>&lt;dbl&gt;</th><th scope=col>&lt;dbl&gt;</th><th scope=col>&lt;dbl&gt;</th><th scope=col>&lt;dbl&gt;</th><th scope=col>&lt;dbl&gt;</th></tr>\n",
       "</thead>\n",
       "<tbody>\n",
       "\t<tr><td>chr10</td><td>100237050</td><td>100237051</td><td>0.000000</td><td>0.057221</td><td>0.000000</td><td>0</td><td>0e+00</td><td>0.000000</td><td>0.052209</td><td>0.054305</td><td>0.096416</td><td>0.000000</td><td>0.070652</td></tr>\n",
       "\t<tr><td>chr10</td><td>100237096</td><td>100237097</td><td>0.000000</td><td>0.000000</td><td>0.000000</td><td>0</td><td>0e+00</td><td>0.000000</td><td>0.000000</td><td>0.000000</td><td>0.154549</td><td>0.000000</td><td>0.000000</td></tr>\n",
       "\t<tr><td>chr10</td><td>100237142</td><td>100237143</td><td>0.000000</td><td>0.154336</td><td>0.000000</td><td>0</td><td>0e+00</td><td>0.000000</td><td>0.000000</td><td>0.000000</td><td>0.000000</td><td>0.000001</td><td>0.000000</td></tr>\n",
       "\t<tr><td>chr10</td><td>100237145</td><td>100237146</td><td>0.000000</td><td>0.103260</td><td>0.051720</td><td>0</td><td>0e+00</td><td>0.000000</td><td>0.050376</td><td>0.041848</td><td>0.102601</td><td>0.000000</td><td>0.071999</td></tr>\n",
       "\t<tr><td>chr10</td><td>100237154</td><td>100237155</td><td>0.000000</td><td>0.051361</td><td>0.000000</td><td>0</td><td>0e+00</td><td>0.000000</td><td>0.000001</td><td>0.000000</td><td>0.000000</td><td>0.000000</td><td>0.000001</td></tr>\n",
       "\t<tr><td>chr10</td><td>100237155</td><td>100237156</td><td>0.000000</td><td>0.000000</td><td>0.000000</td><td>0</td><td>0e+00</td><td>0.377161</td><td>0.000000</td><td>0.000000</td><td>0.051390</td><td>0.312654</td><td>0.000001</td></tr>\n",
       "\t<tr><td>chr10</td><td>100237170</td><td>100237171</td><td>0.000000</td><td>0.000000</td><td>0.000000</td><td>0</td><td>0e+00</td><td>0.000000</td><td>0.000000</td><td>0.000000</td><td>0.000000</td><td>0.000000</td><td>0.401178</td></tr>\n",
       "\t<tr><td>chr10</td><td>100237223</td><td>100237224</td><td>0.000000</td><td>0.059588</td><td>0.000000</td><td>0</td><td>0e+00</td><td>0.000001</td><td>0.000001</td><td>0.000000</td><td>0.000001</td><td>0.000001</td><td>0.000001</td></tr>\n",
       "\t<tr><td>chr10</td><td>100237253</td><td>100237254</td><td>0.054629</td><td>0.000000</td><td>0.113021</td><td>0</td><td>1e-06</td><td>0.195755</td><td>0.000003</td><td>0.000003</td><td>0.000003</td><td>0.000000</td><td>0.000003</td></tr>\n",
       "\t<tr><td>chr10</td><td>100237439</td><td>100237440</td><td>0.000000</td><td>0.000000</td><td>0.000000</td><td>0</td><td>0e+00</td><td>0.000000</td><td>0.000000</td><td>0.175854</td><td>0.000000</td><td>0.000000</td><td>0.000004</td></tr>\n",
       "</tbody>\n",
       "</table>\n"
      ],
      "text/latex": [
       "A tibble: 10 × 14\n",
       "\\begin{tabular}{llllllllllllll}\n",
       " chrom & start & end & v5--LR--Amatlan\\_de\\_Canas & v5--LR--Crucero\\_Lagunitas & v5--LR--Los\\_Guajes & v5--LR--random1\\_Palmar\\_Chico & v5--LR--San\\_Lorenzo & v5--Teo--Amatlan\\_de\\_Canas & v5--Teo--Crucero\\_Lagunitas & v5--Teo--El\\_Rodeo & v5--Teo--Los\\_Guajes & v5--Teo--random1\\_Palmar\\_Chico & v5--Teo--San\\_Lorenzo\\\\\n",
       " <chr> & <dbl> & <dbl> & <dbl> & <dbl> & <dbl> & <dbl> & <dbl> & <dbl> & <dbl> & <dbl> & <dbl> & <dbl> & <dbl>\\\\\n",
       "\\hline\n",
       "\t chr10 & 100237050 & 100237051 & 0.000000 & 0.057221 & 0.000000 & 0 & 0e+00 & 0.000000 & 0.052209 & 0.054305 & 0.096416 & 0.000000 & 0.070652\\\\\n",
       "\t chr10 & 100237096 & 100237097 & 0.000000 & 0.000000 & 0.000000 & 0 & 0e+00 & 0.000000 & 0.000000 & 0.000000 & 0.154549 & 0.000000 & 0.000000\\\\\n",
       "\t chr10 & 100237142 & 100237143 & 0.000000 & 0.154336 & 0.000000 & 0 & 0e+00 & 0.000000 & 0.000000 & 0.000000 & 0.000000 & 0.000001 & 0.000000\\\\\n",
       "\t chr10 & 100237145 & 100237146 & 0.000000 & 0.103260 & 0.051720 & 0 & 0e+00 & 0.000000 & 0.050376 & 0.041848 & 0.102601 & 0.000000 & 0.071999\\\\\n",
       "\t chr10 & 100237154 & 100237155 & 0.000000 & 0.051361 & 0.000000 & 0 & 0e+00 & 0.000000 & 0.000001 & 0.000000 & 0.000000 & 0.000000 & 0.000001\\\\\n",
       "\t chr10 & 100237155 & 100237156 & 0.000000 & 0.000000 & 0.000000 & 0 & 0e+00 & 0.377161 & 0.000000 & 0.000000 & 0.051390 & 0.312654 & 0.000001\\\\\n",
       "\t chr10 & 100237170 & 100237171 & 0.000000 & 0.000000 & 0.000000 & 0 & 0e+00 & 0.000000 & 0.000000 & 0.000000 & 0.000000 & 0.000000 & 0.401178\\\\\n",
       "\t chr10 & 100237223 & 100237224 & 0.000000 & 0.059588 & 0.000000 & 0 & 0e+00 & 0.000001 & 0.000001 & 0.000000 & 0.000001 & 0.000001 & 0.000001\\\\\n",
       "\t chr10 & 100237253 & 100237254 & 0.054629 & 0.000000 & 0.113021 & 0 & 1e-06 & 0.195755 & 0.000003 & 0.000003 & 0.000003 & 0.000000 & 0.000003\\\\\n",
       "\t chr10 & 100237439 & 100237440 & 0.000000 & 0.000000 & 0.000000 & 0 & 0e+00 & 0.000000 & 0.000000 & 0.175854 & 0.000000 & 0.000000 & 0.000004\\\\\n",
       "\\end{tabular}\n"
      ],
      "text/markdown": [
       "\n",
       "A tibble: 10 × 14\n",
       "\n",
       "| chrom &lt;chr&gt; | start &lt;dbl&gt; | end &lt;dbl&gt; | v5--LR--Amatlan_de_Canas &lt;dbl&gt; | v5--LR--Crucero_Lagunitas &lt;dbl&gt; | v5--LR--Los_Guajes &lt;dbl&gt; | v5--LR--random1_Palmar_Chico &lt;dbl&gt; | v5--LR--San_Lorenzo &lt;dbl&gt; | v5--Teo--Amatlan_de_Canas &lt;dbl&gt; | v5--Teo--Crucero_Lagunitas &lt;dbl&gt; | v5--Teo--El_Rodeo &lt;dbl&gt; | v5--Teo--Los_Guajes &lt;dbl&gt; | v5--Teo--random1_Palmar_Chico &lt;dbl&gt; | v5--Teo--San_Lorenzo &lt;dbl&gt; |\n",
       "|---|---|---|---|---|---|---|---|---|---|---|---|---|---|\n",
       "| chr10 | 100237050 | 100237051 | 0.000000 | 0.057221 | 0.000000 | 0 | 0e+00 | 0.000000 | 0.052209 | 0.054305 | 0.096416 | 0.000000 | 0.070652 |\n",
       "| chr10 | 100237096 | 100237097 | 0.000000 | 0.000000 | 0.000000 | 0 | 0e+00 | 0.000000 | 0.000000 | 0.000000 | 0.154549 | 0.000000 | 0.000000 |\n",
       "| chr10 | 100237142 | 100237143 | 0.000000 | 0.154336 | 0.000000 | 0 | 0e+00 | 0.000000 | 0.000000 | 0.000000 | 0.000000 | 0.000001 | 0.000000 |\n",
       "| chr10 | 100237145 | 100237146 | 0.000000 | 0.103260 | 0.051720 | 0 | 0e+00 | 0.000000 | 0.050376 | 0.041848 | 0.102601 | 0.000000 | 0.071999 |\n",
       "| chr10 | 100237154 | 100237155 | 0.000000 | 0.051361 | 0.000000 | 0 | 0e+00 | 0.000000 | 0.000001 | 0.000000 | 0.000000 | 0.000000 | 0.000001 |\n",
       "| chr10 | 100237155 | 100237156 | 0.000000 | 0.000000 | 0.000000 | 0 | 0e+00 | 0.377161 | 0.000000 | 0.000000 | 0.051390 | 0.312654 | 0.000001 |\n",
       "| chr10 | 100237170 | 100237171 | 0.000000 | 0.000000 | 0.000000 | 0 | 0e+00 | 0.000000 | 0.000000 | 0.000000 | 0.000000 | 0.000000 | 0.401178 |\n",
       "| chr10 | 100237223 | 100237224 | 0.000000 | 0.059588 | 0.000000 | 0 | 0e+00 | 0.000001 | 0.000001 | 0.000000 | 0.000001 | 0.000001 | 0.000001 |\n",
       "| chr10 | 100237253 | 100237254 | 0.054629 | 0.000000 | 0.113021 | 0 | 1e-06 | 0.195755 | 0.000003 | 0.000003 | 0.000003 | 0.000000 | 0.000003 |\n",
       "| chr10 | 100237439 | 100237440 | 0.000000 | 0.000000 | 0.000000 | 0 | 0e+00 | 0.000000 | 0.000000 | 0.175854 | 0.000000 | 0.000000 | 0.000004 |\n",
       "\n"
      ],
      "text/plain": [
       "   chrom start     end       v5--LR--Amatlan_de_Canas v5--LR--Crucero_Lagunitas\n",
       "1  chr10 100237050 100237051 0.000000                 0.057221                 \n",
       "2  chr10 100237096 100237097 0.000000                 0.000000                 \n",
       "3  chr10 100237142 100237143 0.000000                 0.154336                 \n",
       "4  chr10 100237145 100237146 0.000000                 0.103260                 \n",
       "5  chr10 100237154 100237155 0.000000                 0.051361                 \n",
       "6  chr10 100237155 100237156 0.000000                 0.000000                 \n",
       "7  chr10 100237170 100237171 0.000000                 0.000000                 \n",
       "8  chr10 100237223 100237224 0.000000                 0.059588                 \n",
       "9  chr10 100237253 100237254 0.054629                 0.000000                 \n",
       "10 chr10 100237439 100237440 0.000000                 0.000000                 \n",
       "   v5--LR--Los_Guajes v5--LR--random1_Palmar_Chico v5--LR--San_Lorenzo\n",
       "1  0.000000           0                            0e+00              \n",
       "2  0.000000           0                            0e+00              \n",
       "3  0.000000           0                            0e+00              \n",
       "4  0.051720           0                            0e+00              \n",
       "5  0.000000           0                            0e+00              \n",
       "6  0.000000           0                            0e+00              \n",
       "7  0.000000           0                            0e+00              \n",
       "8  0.000000           0                            0e+00              \n",
       "9  0.113021           0                            1e-06              \n",
       "10 0.000000           0                            0e+00              \n",
       "   v5--Teo--Amatlan_de_Canas v5--Teo--Crucero_Lagunitas v5--Teo--El_Rodeo\n",
       "1  0.000000                  0.052209                   0.054305         \n",
       "2  0.000000                  0.000000                   0.000000         \n",
       "3  0.000000                  0.000000                   0.000000         \n",
       "4  0.000000                  0.050376                   0.041848         \n",
       "5  0.000000                  0.000001                   0.000000         \n",
       "6  0.377161                  0.000000                   0.000000         \n",
       "7  0.000000                  0.000000                   0.000000         \n",
       "8  0.000001                  0.000001                   0.000000         \n",
       "9  0.195755                  0.000003                   0.000003         \n",
       "10 0.000000                  0.000000                   0.175854         \n",
       "   v5--Teo--Los_Guajes v5--Teo--random1_Palmar_Chico v5--Teo--San_Lorenzo\n",
       "1  0.096416            0.000000                      0.070652            \n",
       "2  0.154549            0.000000                      0.000000            \n",
       "3  0.000000            0.000001                      0.000000            \n",
       "4  0.102601            0.000000                      0.071999            \n",
       "5  0.000000            0.000000                      0.000001            \n",
       "6  0.051390            0.312654                      0.000001            \n",
       "7  0.000000            0.000000                      0.401178            \n",
       "8  0.000001            0.000001                      0.000001            \n",
       "9  0.000003            0.000000                      0.000003            \n",
       "10 0.000000            0.000000                      0.000004            "
      ]
     },
     "metadata": {},
     "output_type": "display_data"
    }
   ],
   "source": [
    "FREQ_POPS = c(\n",
    "    \"chrom\",\n",
    "    \"start\",\n",
    "    \"end\",\n",
    "    \"v5--LR--Amatlan_de_Canas\",\n",
    "    \"v5--LR--Crucero_Lagunitas\",\n",
    "    \"v5--LR--Los_Guajes\",\n",
    "    \"v5--LR--random1_Palmar_Chico\",\n",
    "    \"v5--LR--San_Lorenzo\",\n",
    "    \"v5--Teo--Amatlan_de_Canas\",\n",
    "    \"v5--Teo--Crucero_Lagunitas\",\n",
    "    \"v5--Teo--El_Rodeo\",\n",
    "    \"v5--Teo--Los_Guajes\",\n",
    "    \"v5--Teo--random1_Palmar_Chico\",\n",
    "    \"v5--Teo--San_Lorenzo\"\n",
    ")\n",
    "\n",
    "MIN_FREQ <- 1/20\n",
    "neutral_freqs <- vroom::vroom(file = \"../data/rdmc/v5--neutral_freqs.txt\",   \n",
    "    delim = \"\\t\",\n",
    "    col_names = FREQ_POPS) %>%\n",
    "    mutate(varz = apply(select(., -c(chrom, start, end)), 1, max)) %>% \n",
    "    filter(varz >= MIN_FREQ) %>%\n",
    "    sample_n(50000) %>% \n",
    "    select(-varz) \n",
    "\n",
    "\n",
    "s_file <- \"../data/rdmc/sweep_freq/v5--sweep--chr10--0--152435371_start100234619_end100464359_pops1-4-10.txt\"\n",
    "#s_file <- \"../test_chr_start7110396592_end110877024_1MB_buffer_sweep_pops1-2-3-4-5.txt\"\n",
    "#s_file <- \"../sweep_test.txt\"\n",
    "#str_split(s_file, \"pops\", simplify = FALSE)\n",
    "\n",
    "sel_vec <- str_split(s_file, \"pops\", simplify = TRUE)[,2] %>% \n",
    "        str_remove(\".txt\") %>% \n",
    "        str_split(\"-\", simplify = TRUE) %>% \n",
    "        as_vector() %>% \n",
    "        as.numeric()\n",
    "\n",
    "#sel_vec <- c(1,4,8)\n",
    "\n",
    "sel_vec\n",
    "\n",
    "\n",
    "sweep_freqs <- vroom::vroom(file = s_file,   \n",
    "    delim = \"\\t\",\n",
    "    col_names = FREQ_POPS)  %>% \n",
    "    mutate(varz = apply(select(., -c(chrom, start, end)), 1, max)) %>% \n",
    "    filter(varz >= MIN_FREQ) %>%\n",
    "    select(-varz) %>% \n",
    "    sample_n(min(nrow(.), n_sites)) %>% \n",
    "    arrange(start) \n",
    "\n",
    "\n",
    "nrow(neutral_freqs)\n",
    "nrow(sweep_freqs)\n",
    "\n",
    "sweep_freqs[0:10, ]\n",
    "#sweep_freqs %>% \n",
    "#    apply(select(., -c(chrom, start, end)), 1, var)\n",
    "#    apply(., 1, var)\n"
   ]
  },
  {
   "cell_type": "code",
   "execution_count": 7,
   "metadata": {},
   "outputs": [
    {
     "data": {
      "image/png": "[encoded data removed]",
      "text/plain": [
       "plot without title"
      ]
     },
     "metadata": {
      "image/png": {
       "height": 700,
       "width": 1000
      }
     },
     "output_type": "display_data"
    },
    {
     "data": {
      "image/png": "[encoded data removed]",
      "text/plain": [
       "plot without title"
      ]
     },
     "metadata": {
      "image/png": {
       "height": 700,
       "width": 1000
      }
     },
     "output_type": "display_data"
    }
   ],
   "source": [
    "pop_types <- (names(neutral_freqs)[-c(1:3)] %>% str_remove_all('v5--') %>% str_split('--', simplify = TRUE))[,1]\n",
    "pops <- (names(neutral_freqs)[-c(1:3)] %>% str_remove_all('v5--') %>% str_split('--', simplify = TRUE))[,2]\n",
    "pop_pc <- neutral_freqs %>% \n",
    "    select(-c(chrom, start, end)) %>% \n",
    "    t() %>% \n",
    "    prcomp()\n",
    "\n",
    "plot(pop_pc$x[,1], pop_pc$x[,2], bg = factor(pops), pch = 21, cex = 2)\n",
    "text(pop_pc$x[,1], pop_pc$x[,2], pops)\n",
    "\n",
    "\n",
    "dist_mat <- neutral_freqs %>% \n",
    "    select(-c(chrom, start, end)) %>% \n",
    "    t() %>% \n",
    "    dist()\n",
    "\n",
    "plot.phylo(nj(dist_mat), type = \"unrooted\")"
   ]
  },
  {
   "cell_type": "code",
   "execution_count": 8,
   "metadata": {},
   "outputs": [],
   "source": [
    "pos_vec <- select(sweep_freqs, end) %>% pull(end)\n",
    "\n",
    "sweep_mat <- sweep_freqs %>% \n",
    "    select(-c(chrom, start, end)) %>% \n",
    "    t()\n",
    "\n",
    "neut_mat <- \n",
    "    neutral_freqs %>% \n",
    "    select(-c(chrom, start, end)) %>% \n",
    "    t()\n",
    "\n",
    "rr <- get_rr(gen_map_all_chr, \"chr1\", sweep_freqs$end)\n",
    "\n",
    "param_list <-\n",
    "  parameter_barge(\n",
    "    Ne =  50000,\n",
    "    rec = rr,\n",
    "    neutral_freqs = neut_mat,\n",
    "    selected_freqs = sweep_mat,\n",
    "    selected_pops = sel_vec,\n",
    "    positions = pos_vec,\n",
    "    n_sites = 20,\n",
    "    sample_sizes = rep(10, nrow(neut_mat)),\n",
    "    num_bins = 1000,\n",
    "    sels = 10^seq(-5, -1, length.out = 15),\n",
    "    times = c(1e2, 1e3, 1e4, 1e5),\n",
    "    gs = 10^seq(-3, -1, length.out = 3),\n",
    "    migs = 10^(seq(-3, -1, length.out = 2)),\n",
    "    sources = sel_vec,\n",
    "    locus_name = s_file,\n",
    "    cholesky = TRUE\n",
    "  )\n",
    "\n"
   ]
  },
  {
   "cell_type": "code",
   "execution_count": 9,
   "metadata": {},
   "outputs": [
    {
     "data": {
      "text/html": [
       "<style>\n",
       ".list-inline {list-style: none; margin:0; padding: 0}\n",
       ".list-inline>li {display: inline-block}\n",
       ".list-inline>li:not(:last-child)::after {content: \"\\00b7\"; padding: 0 .5ex}\n",
       "</style>\n",
       "<ol class=list-inline><li>0.0215873653836364</li><li>0.0215873653836364</li><li>0.0215873653836364</li><li>0.0215873653836364</li><li>0.0215873653836364</li><li>0.0215873653836364</li><li>0.0215873653836364</li><li>0.0215873653836364</li><li>0.0215873653836364</li><li>0.0215873653836364</li><li>0.0215873653836364</li></ol>\n"
      ],
      "text/latex": [
       "\\begin{enumerate*}\n",
       "\\item 0.0215873653836364\n",
       "\\item 0.0215873653836364\n",
       "\\item 0.0215873653836364\n",
       "\\item 0.0215873653836364\n",
       "\\item 0.0215873653836364\n",
       "\\item 0.0215873653836364\n",
       "\\item 0.0215873653836364\n",
       "\\item 0.0215873653836364\n",
       "\\item 0.0215873653836364\n",
       "\\item 0.0215873653836364\n",
       "\\item 0.0215873653836364\n",
       "\\end{enumerate*}\n"
      ],
      "text/markdown": [
       "1. 0.0215873653836364\n",
       "2. 0.0215873653836364\n",
       "3. 0.0215873653836364\n",
       "4. 0.0215873653836364\n",
       "5. 0.0215873653836364\n",
       "6. 0.0215873653836364\n",
       "7. 0.0215873653836364\n",
       "8. 0.0215873653836364\n",
       "9. 0.0215873653836364\n",
       "10. 0.0215873653836364\n",
       "11. 0.0215873653836364\n",
       "\n",
       "\n"
      ],
      "text/plain": [
       " [1] 0.02158737 0.02158737 0.02158737 0.02158737 0.02158737 0.02158737\n",
       " [7] 0.02158737 0.02158737 0.02158737 0.02158737 0.02158737"
      ]
     },
     "metadata": {},
     "output_type": "display_data"
    },
    {
     "name": "stderr",
     "output_type": "stream",
     "text": [
      "Warning message in mvtnorm::rmvnorm(n = 10000, mean = rep(mean(apply(param_list$allFreqs, :\n",
      "“sigma is numerically not positive semidefinite”\n"
     ]
    },
    {
     "data": {
      "text/html": [
       "<strong>1%:</strong> 0.338770649681825"
      ],
      "text/latex": [
       "\\textbf{1\\textbackslash{}\\%:} 0.338770649681825"
      ],
      "text/markdown": [
       "**1%:** 0.338770649681825"
      ],
      "text/plain": [
       "       1% \n",
       "0.3387706 "
      ]
     },
     "metadata": {},
     "output_type": "display_data"
    }
   ],
   "source": [
    "rep(mean(apply(param_list$allFreqs, 1, mean)), 11)\n",
    "quantile(apply(mvtnorm::rmvnorm(n = 10000, mean = rep(mean(apply(param_list$allFreqs, 1, mean)), 11), sigma = param_list$F_estimate), 2, sd), 0.01)"
   ]
  },
  {
   "cell_type": "code",
   "execution_count": 10,
   "metadata": {},
   "outputs": [
    {
     "name": "stdout",
     "output_type": "stream",
     "text": [
      "[1] \"neutral\"\n",
      "[1] \"ind\"\n",
      "[1] \"standing\"\n",
      "[1] \"mig\"\n"
     ]
    },
    {
     "data": {
      "text/plain": [
       "Time difference of 8.801101 mins"
      ]
     },
     "metadata": {},
     "output_type": "display_data"
    }
   ],
   "source": [
    "mode_wrapper <- function(barge, mode) {\n",
    "       cle_out <- try(mode_cle(barge, mode))\n",
    "       if(class(cle_out)[1] == 'try-error'){\n",
    "           barge$cholesky  <- FALSE\n",
    "           cle_out <- suppressWarnings(mode_cle(barge, mode))\n",
    "           barge$cholesky  <- TRUE\n",
    "       }\n",
    "    return(cle_out)\n",
    "}\n",
    "\n",
    "t <- Sys.time()\n",
    "#fit composite likelihood models\n",
    "print(\"neutral\")\n",
    "neut_cle <- mode_wrapper(param_list, mode = \"neutral\")\n",
    "print(\"ind\")\n",
    "ind_cle <- mode_wrapper(param_list, mode = \"independent\")\n",
    "print(\"standing\")\n",
    "sv_cle <- mode_wrapper(param_list, mode = \"standing\")\n",
    "print(\"mig\")\n",
    "mig_cle <- mode_wrapper(param_list, mode = \"migration\")\n",
    "\n",
    "Sys.time() - t"
   ]
  },
  {
   "cell_type": "code",
   "execution_count": null,
   "metadata": {},
   "outputs": [],
   "source": [
    "head(neut_cle)"
   ]
  },
  {
   "cell_type": "code",
   "execution_count": 11,
   "metadata": {},
   "outputs": [
    {
     "data": {
      "text/html": [
       "<table>\n",
       "<caption>A tibble: 3 × 14</caption>\n",
       "<thead>\n",
       "\t<tr><th scope=col>selected_sites</th><th scope=col>sels</th><th scope=col>cle</th><th scope=col>locus</th><th scope=col>gs</th><th scope=col>times</th><th scope=col>migs</th><th scope=col>sources</th><th scope=col>sel_pops</th><th scope=col>model</th><th scope=col>sel_pop_ids</th><th scope=col>neut_cle</th><th scope=col>mcle</th><th scope=col>mcle_delta</th></tr>\n",
       "\t<tr><th scope=col>&lt;dbl&gt;</th><th scope=col>&lt;dbl&gt;</th><th scope=col>&lt;dbl&gt;</th><th scope=col>&lt;chr&gt;</th><th scope=col>&lt;dbl&gt;</th><th scope=col>&lt;dbl&gt;</th><th scope=col>&lt;dbl&gt;</th><th scope=col>&lt;dbl&gt;</th><th scope=col>&lt;chr&gt;</th><th scope=col>&lt;chr&gt;</th><th scope=col>&lt;chr&gt;</th><th scope=col>&lt;dbl&gt;</th><th scope=col>&lt;dbl&gt;</th><th scope=col>&lt;dbl&gt;</th></tr>\n",
       "</thead>\n",
       "<tbody>\n",
       "\t<tr><td>129699886</td><td>1.930698e-05</td><td>19594.61</td><td>../data/rdmc/sweep_freq/v5--sweep--chr5--0--226353449_start128809182_end129937508_pops1-2-3-4-5.txt</td><td>0.01</td><td>100</td><td> NA</td><td>NA</td><td>1-2-3-4-5</td><td>standing   </td><td>v5--LR--Amatlan_de_Canas; v5--LR--Crucero_Lagunitas; v5--LR--Los_Guajes; v5--LR--random1_Palmar_Chico; v5--LR--San_Lorenzo</td><td>19591.22</td><td>  3.392059</td><td>  0.000000</td></tr>\n",
       "\t<tr><td>129699886</td><td>1.930698e-05</td><td>19590.19</td><td>../data/rdmc/sweep_freq/v5--sweep--chr5--0--226353449_start128809182_end129937508_pops1-2-3-4-5.txt</td><td>  NA</td><td> NA</td><td>0.1</td><td> 2</td><td>1-2-3-4-5</td><td>migration  </td><td>v5--LR--Amatlan_de_Canas; v5--LR--Crucero_Lagunitas; v5--LR--Los_Guajes; v5--LR--random1_Palmar_Chico; v5--LR--San_Lorenzo</td><td>19591.22</td><td> -1.032028</td><td> -4.424087</td></tr>\n",
       "\t<tr><td>128809190</td><td>1.930698e-05</td><td>19499.39</td><td>../data/rdmc/sweep_freq/v5--sweep--chr5--0--226353449_start128809182_end129937508_pops1-2-3-4-5.txt</td><td>  NA</td><td> NA</td><td> NA</td><td>NA</td><td>1-2-3-4-5</td><td>independent</td><td>v5--LR--Amatlan_de_Canas; v5--LR--Crucero_Lagunitas; v5--LR--Los_Guajes; v5--LR--random1_Palmar_Chico; v5--LR--San_Lorenzo</td><td>19591.22</td><td>-91.828444</td><td>-95.220504</td></tr>\n",
       "</tbody>\n",
       "</table>\n"
      ],
      "text/latex": [
       "A tibble: 3 × 14\n",
       "\\begin{tabular}{llllllllllllll}\n",
       " selected\\_sites & sels & cle & locus & gs & times & migs & sources & sel\\_pops & model & sel\\_pop\\_ids & neut\\_cle & mcle & mcle\\_delta\\\\\n",
       " <dbl> & <dbl> & <dbl> & <chr> & <dbl> & <dbl> & <dbl> & <dbl> & <chr> & <chr> & <chr> & <dbl> & <dbl> & <dbl>\\\\\n",
       "\\hline\n",
       "\t 129699886 & 1.930698e-05 & 19594.61 & ../data/rdmc/sweep\\_freq/v5--sweep--chr5--0--226353449\\_start128809182\\_end129937508\\_pops1-2-3-4-5.txt & 0.01 & 100 &  NA & NA & 1-2-3-4-5 & standing    & v5--LR--Amatlan\\_de\\_Canas; v5--LR--Crucero\\_Lagunitas; v5--LR--Los\\_Guajes; v5--LR--random1\\_Palmar\\_Chico; v5--LR--San\\_Lorenzo & 19591.22 &   3.392059 &   0.000000\\\\\n",
       "\t 129699886 & 1.930698e-05 & 19590.19 & ../data/rdmc/sweep\\_freq/v5--sweep--chr5--0--226353449\\_start128809182\\_end129937508\\_pops1-2-3-4-5.txt &   NA &  NA & 0.1 &  2 & 1-2-3-4-5 & migration   & v5--LR--Amatlan\\_de\\_Canas; v5--LR--Crucero\\_Lagunitas; v5--LR--Los\\_Guajes; v5--LR--random1\\_Palmar\\_Chico; v5--LR--San\\_Lorenzo & 19591.22 &  -1.032028 &  -4.424087\\\\\n",
       "\t 128809190 & 1.930698e-05 & 19499.39 & ../data/rdmc/sweep\\_freq/v5--sweep--chr5--0--226353449\\_start128809182\\_end129937508\\_pops1-2-3-4-5.txt &   NA &  NA &  NA & NA & 1-2-3-4-5 & independent & v5--LR--Amatlan\\_de\\_Canas; v5--LR--Crucero\\_Lagunitas; v5--LR--Los\\_Guajes; v5--LR--random1\\_Palmar\\_Chico; v5--LR--San\\_Lorenzo & 19591.22 & -91.828444 & -95.220504\\\\\n",
       "\\end{tabular}\n"
      ],
      "text/markdown": [
       "\n",
       "A tibble: 3 × 14\n",
       "\n",
       "| selected_sites &lt;dbl&gt; | sels &lt;dbl&gt; | cle &lt;dbl&gt; | locus &lt;chr&gt; | gs &lt;dbl&gt; | times &lt;dbl&gt; | migs &lt;dbl&gt; | sources &lt;dbl&gt; | sel_pops &lt;chr&gt; | model &lt;chr&gt; | sel_pop_ids &lt;chr&gt; | neut_cle &lt;dbl&gt; | mcle &lt;dbl&gt; | mcle_delta &lt;dbl&gt; |\n",
       "|---|---|---|---|---|---|---|---|---|---|---|---|---|---|\n",
       "| 129699886 | 1.930698e-05 | 19594.61 | ../data/rdmc/sweep_freq/v5--sweep--chr5--0--226353449_start128809182_end129937508_pops1-2-3-4-5.txt | 0.01 | 100 |  NA | NA | 1-2-3-4-5 | standing    | v5--LR--Amatlan_de_Canas; v5--LR--Crucero_Lagunitas; v5--LR--Los_Guajes; v5--LR--random1_Palmar_Chico; v5--LR--San_Lorenzo | 19591.22 |   3.392059 |   0.000000 |\n",
       "| 129699886 | 1.930698e-05 | 19590.19 | ../data/rdmc/sweep_freq/v5--sweep--chr5--0--226353449_start128809182_end129937508_pops1-2-3-4-5.txt |   NA |  NA | 0.1 |  2 | 1-2-3-4-5 | migration   | v5--LR--Amatlan_de_Canas; v5--LR--Crucero_Lagunitas; v5--LR--Los_Guajes; v5--LR--random1_Palmar_Chico; v5--LR--San_Lorenzo | 19591.22 |  -1.032028 |  -4.424087 |\n",
       "| 128809190 | 1.930698e-05 | 19499.39 | ../data/rdmc/sweep_freq/v5--sweep--chr5--0--226353449_start128809182_end129937508_pops1-2-3-4-5.txt |   NA |  NA |  NA | NA | 1-2-3-4-5 | independent | v5--LR--Amatlan_de_Canas; v5--LR--Crucero_Lagunitas; v5--LR--Los_Guajes; v5--LR--random1_Palmar_Chico; v5--LR--San_Lorenzo | 19591.22 | -91.828444 | -95.220504 |\n",
       "\n"
      ],
      "text/plain": [
       "  selected_sites sels         cle     \n",
       "1 129699886      1.930698e-05 19594.61\n",
       "2 129699886      1.930698e-05 19590.19\n",
       "3 128809190      1.930698e-05 19499.39\n",
       "  locus                                                                                              \n",
       "1 ../data/rdmc/sweep_freq/v5--sweep--chr5--0--226353449_start128809182_end129937508_pops1-2-3-4-5.txt\n",
       "2 ../data/rdmc/sweep_freq/v5--sweep--chr5--0--226353449_start128809182_end129937508_pops1-2-3-4-5.txt\n",
       "3 ../data/rdmc/sweep_freq/v5--sweep--chr5--0--226353449_start128809182_end129937508_pops1-2-3-4-5.txt\n",
       "  gs   times migs sources sel_pops  model      \n",
       "1 0.01 100    NA  NA      1-2-3-4-5 standing   \n",
       "2   NA  NA   0.1   2      1-2-3-4-5 migration  \n",
       "3   NA  NA    NA  NA      1-2-3-4-5 independent\n",
       "  sel_pop_ids                                                                                                               \n",
       "1 v5--LR--Amatlan_de_Canas; v5--LR--Crucero_Lagunitas; v5--LR--Los_Guajes; v5--LR--random1_Palmar_Chico; v5--LR--San_Lorenzo\n",
       "2 v5--LR--Amatlan_de_Canas; v5--LR--Crucero_Lagunitas; v5--LR--Los_Guajes; v5--LR--random1_Palmar_Chico; v5--LR--San_Lorenzo\n",
       "3 v5--LR--Amatlan_de_Canas; v5--LR--Crucero_Lagunitas; v5--LR--Los_Guajes; v5--LR--random1_Palmar_Chico; v5--LR--San_Lorenzo\n",
       "  neut_cle mcle       mcle_delta\n",
       "1 19591.22   3.392059   0.000000\n",
       "2 19591.22  -1.032028  -4.424087\n",
       "3 19591.22 -91.828444 -95.220504"
      ]
     },
     "metadata": {},
     "output_type": "display_data"
    },
    {
     "name": "stderr",
     "output_type": "stream",
     "text": [
      "`summarise()` has grouped output by 'model'. You can override using the `.groups` argument.\n",
      "\n"
     ]
    },
    {
     "data": {
      "text/html": [
       "'standing'"
      ],
      "text/latex": [
       "'standing'"
      ],
      "text/markdown": [
       "'standing'"
      ],
      "text/plain": [
       "[1] \"standing\""
      ]
     },
     "metadata": {},
     "output_type": "display_data"
    }
   ],
   "source": [
    "#neut <- unique(neut_cle$cle)\n",
    "\n",
    "#merge data frame of all fit models\n",
    "all_mods <-\n",
    "  bind_rows(\n",
    "    ind_cle,\n",
    "    mig_cle,\n",
    "    sv_cle\n",
    "  ) %>%\n",
    "    mutate(sel_pop_ids = paste(FREQ_POPS[sel_vec+3], collapse = \"; \"),\n",
    "           neut_cle = unique(neut_cle$cle))\n",
    "    \n",
    "#max composite likelihood estimate \n",
    "#of all params over all models  \n",
    "all_mods %>%\n",
    "  group_by(model) %>%\n",
    "  filter(cle == max(cle,na.rm=T)) %>%\n",
    "  mutate(mcle = cle - neut_cle) %>%\n",
    "  ungroup() %>%\n",
    "  mutate(mcle_delta = mcle - max(mcle)) %>%\n",
    "  arrange(desc(mcle)) \n",
    "\n",
    "best_mcle <- all_mods %>%\n",
    "  group_by(model) %>%\n",
    "  summarise(mcle = max(cle, na.rm = T) - neut_cle) %>%\n",
    "  ungroup()  %>%\n",
    "  arrange(desc(mcle))\n",
    "\n",
    "(best_mod <- best_mcle %>% slice(1) %>% pull(model))\n",
    "#best_mod <- \"standing\"\n"
   ]
  },
  {
   "cell_type": "code",
   "execution_count": null,
   "metadata": {},
   "outputs": [],
   "source": [
    "dim(neut_cle)"
   ]
  },
  {
   "cell_type": "code",
   "execution_count": null,
   "metadata": {
    "scrolled": false
   },
   "outputs": [],
   "source": [
    "\n",
    "all_mods %>%\n",
    "  group_by(selected_sites, model) %>%\n",
    "  filter(model == best_mod) %>%\n",
    "  summarise(mcle = max(cle, na.rm = T) - neut_cle) %>%\n",
    "  ggplot(aes(selected_sites, mcle, colour = model)) +\n",
    "  geom_line() +\n",
    "  geom_point() +\n",
    "  xlab(\"Position\") +\n",
    "  ylab(\"Composite likelihood\") +\n",
    "  scale_color_brewer(palette = \"Set1\")\n",
    "\n",
    "\n",
    "#visualize likelihood surface wrt selection coefficients\n",
    "all_mods %>%\n",
    "  group_by(sels, model) %>%\n",
    "  filter(model == best_mod) %>%\n",
    "  summarise(mcle = max(cle, na.rm = T) - neut_cle) %>%\n",
    "  ggplot(aes(log10(sels), mcle, colour = model)) +\n",
    "  geom_line() +\n",
    "  geom_point() +\n",
    "  ylab(\"Composite likelihood\") +\n",
    "  xlab(\"Selection coefficient\") +\n",
    "  scale_color_brewer(palette = \"Set1\") \n",
    "\n",
    "if (best_mod == \"standing\"){\n",
    "    \n",
    "    #visualize likelihood surface wrt age\n",
    "    a  <- all_mods %>%\n",
    "      group_by(times, model) %>%\n",
    "      filter(model == best_mod) %>%\n",
    "      summarise(mcle = max(cle, na.rm = T) - neut_cle) %>%\n",
    "      ggplot(aes(log10(times), mcle, colour = model)) +\n",
    "      geom_line() +\n",
    "      geom_point() +\n",
    "      ylab(\"Composite likelihood\") +\n",
    "      xlab(\"Age\") +\n",
    "      scale_color_brewer(palette = \"Set1\") \n",
    "    \n",
    "    \n",
    "    #visualize likelihood surface wrt age\n",
    "    b <- all_mods %>%\n",
    "      group_by(gs, model) %>%\n",
    "      filter(model == best_mod) %>%\n",
    "      summarise(mcle = max(cle, na.rm = T) - neut_cle) %>%\n",
    "      ggplot(aes(gs, mcle, colour = model)) +\n",
    "      geom_line() +\n",
    "      geom_point() +\n",
    "      ylab(\"Composite likelihood\") +\n",
    "      xlab(\"Initial allele frequency\") +\n",
    "      scale_color_brewer(palette = \"Set1\") \n",
    "    \n",
    "    a / b\n",
    "\n",
    "    \n",
    "} else if(best_mod == \"migration\"){\n",
    "     a  <- all_mods %>%\n",
    "      group_by(migs, model) %>%\n",
    "      filter(model == best_mod) %>%\n",
    "      summarise(mcle = max(cle, na.rm = T) - neut_cle) %>%\n",
    "      ggplot(aes(log10(migs), mcle, colour = model)) +\n",
    "      geom_line() +\n",
    "      geom_point() +\n",
    "      ylab(\"Composite likelihood\") +\n",
    "      xlab(\"Migration rate\") +\n",
    "      scale_color_brewer(palette = \"Set1\") \n",
    "    \n",
    "    b  <- all_mods %>%\n",
    "      group_by(sources, model) %>%\n",
    "      filter(model == best_mod) %>%\n",
    "      summarise(mcle = max(cle, na.rm = T) - neut_cle) %>%\n",
    "      ggplot(aes(factor(sources), mcle, colour = model)) +\n",
    "      geom_point(size = 3) +\n",
    "      ylab(\"Composite likelihood\") +\n",
    "      xlab(\"Source pop\") +\n",
    "      scale_color_brewer(palette = \"Set1\") \n",
    "\n",
    "    a+b\n",
    "}\n"
   ]
  },
  {
   "cell_type": "code",
   "execution_count": null,
   "metadata": {},
   "outputs": [],
   "source": [
    "sel_vec\n",
    "paste(FREQ_POPS[sel_vec+3], collapse = \"; \")"
   ]
  },
  {
   "cell_type": "code",
   "execution_count": null,
   "metadata": {},
   "outputs": [],
   "source": []
  }
 ],
 "metadata": {
  "kernelspec": {
   "display_name": "R",
   "language": "R",
   "name": "ir"
  },
  "language_info": {
   "codemirror_mode": "r",
   "file_extension": ".r",
   "mimetype": "text/x-r-source",
   "name": "R",
   "pygments_lexer": "r",
   "version": "3.6.3"
  }
 },
 "nbformat": 4,
 "nbformat_minor": 4
}
