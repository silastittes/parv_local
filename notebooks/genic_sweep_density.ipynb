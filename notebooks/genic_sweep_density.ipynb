{
 "cells": [
  {
   "cell_type": "code",
   "execution_count": 38,
   "metadata": {},
   "outputs": [
    {
     "name": "stdout",
     "output_type": "stream",
     "text": [
      "6798049\n"
     ]
    }
   ],
   "source": [
    "%%bash\n",
    "\n",
    "\n",
    "#number of sweep bps\n",
    "cds_sweep_bp=bedtools intersect -wo \\\n",
    "-a <(zcat ../data/refs/v5/v5.gff3.gz | awk '$3 ~ /CDS/' | grep -v scaf) \\\n",
    "-b ../data/raisd/v5--allpops--shared_outliers.txt |\\\n",
    "awk 'BEGIN{sum=0}{sum+=$NF}END{print sum}'\n",
    "\n",
    "#cds_bps\n",
    "cds_sweep_bp=bedtools intersect -wo \\\n",
    "-a <(zcat ../data/refs/v5/v5.gff3.gz | awk '$3 ~ /CDS/' | grep -v scaf) \\\n",
    "-b ../data/raisd/v5--allpops--shared_outliers.txt |\\\n",
    "awk 'BEGIN{sum=0}{sum+=$NF}END{print sum}'\n",
    "\n"
   ]
  },
  {
   "cell_type": "code",
   "execution_count": 41,
   "metadata": {},
   "outputs": [
    {
     "name": "stdout",
     "output_type": "stream",
     "text": [
      "usage: bc [options] [file ...]\n",
      "  -h  --help         print this usage and exit\n",
      "  -i  --interactive  force interactive mode\n",
      "  -l  --mathlib      use the predefined math routines\n",
      "  -q  --quiet        don't print initial banner\n",
      "  -s  --standard     non-standard bc constructs are errors\n",
      "  -w  --warn         warn about non-standard bc constructs\n",
      "  -v  --version      print version information and exit\n"
     ]
    },
    {
     "name": "stderr",
     "output_type": "stream",
     "text": [
      "bc: invalid option -- '8'\n"
     ]
    }
   ],
   "source": [
    "%%bash\n",
    " "
   ]
  },
  {
   "cell_type": "code",
   "execution_count": null,
   "metadata": {},
   "outputs": [],
   "source": []
  },
  {
   "cell_type": "code",
   "execution_count": null,
   "metadata": {},
   "outputs": [],
   "source": []
  }
 ],
 "metadata": {
  "kernelspec": {
   "display_name": "Python 3",
   "language": "python",
   "name": "python3"
  },
  "language_info": {
   "codemirror_mode": {
    "name": "ipython",
    "version": 3
   },
   "file_extension": ".py",
   "mimetype": "text/x-python",
   "name": "python",
   "nbconvert_exporter": "python",
   "pygments_lexer": "ipython3",
   "version": "3.7.8"
  }
 },
 "nbformat": 4,
 "nbformat_minor": 4
}
