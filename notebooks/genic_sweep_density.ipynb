{
 "cells": [
  {
   "cell_type": "code",
   "execution_count": 69,
   "metadata": {},
   "outputs": [
    {
     "name": "stdout",
     "output_type": "stream",
     "text": [
      "6798049\n",
      "90335294\n",
      "2131846805\n",
      "231228352\n",
      "genic sweep density\n",
      ".02939972\n",
      ".000011090536\n",
      "genic density\n",
      ".04237419\n",
      ".000004358898\n",
      "sweep density\n",
      ".10846386\n",
      ".000006708203\n"
     ]
    }
   ],
   "source": [
    "%%bash\n",
    "\n",
    "#number of sweep bps\n",
    "cds_sweep_bp=`bedtools intersect -wo \\\n",
    "-a <(zcat ../data/refs/v5/v5.gff3.gz | awk '$3 ~ /CDS/' | grep -v scaf) \\\n",
    "-b ../data/raisd/v5--allpops--shared_outliers.txt |\\\n",
    "awk 'BEGIN{sum=0}{sum+=$NF}END{print sum}'`\n",
    "\n",
    "#sweep bps\n",
    "sweep_bp=`awk 'BEGIN{sum=0}{sum+=$3-$2}END{print sum}' ../data/raisd/v5--allpops--shared_outliers.txt`\n",
    "\n",
    "#cds_bps\n",
    "cds_bp=`zcat ../data/refs/v5/v5.gff3.gz |\\\n",
    "awk '$3 ~ /CDS/' |\\\n",
    "grep -v scaf |\\\n",
    "awk 'BEGIN{sum=0}{sum+=$5-$4}END{print sum}'`\n",
    "\n",
    "\n",
    "#genomic bps\n",
    "g_bps=`awk 'BEGIN{sum=0}{sum+=$NF}END{print sum}' ../data/refs/v5/v5.gbed`\n",
    "\n",
    "echo $cds_sweep_bp\n",
    "echo $cds_bp\n",
    "echo $g_bps\n",
    "echo $sweep_bp\n",
    "\n",
    "\n",
    "echo \"genic sweep density\"\n",
    "echo \"scale=8; $cds_sweep_bp / $sweep_bp\" | bc\n",
    "echo \"scale=12; sqrt($cds_sweep_bp / $sweep_bp * (1-$cds_sweep_bp / $sweep_bp)/$sweep_bp)\" | bc -l\n",
    "\n",
    "echo \"genic density\"\n",
    "echo \"scale=8; $cds_bp / $g_bps\" | bc\n",
    "echo \"scale=12; sqrt( $cds_bp / $g_bps  * (1- $cds_bp / $g_bps)/ $g_bps)\" | bc -l\n",
    "\n",
    "\n",
    "echo \"sweep density\"\n",
    "echo \"scale=8; $sweep_bp / $g_bps\" | bc\n",
    "echo \"scale=12;  sqrt( $sweep_bp / $g_bps * (1- $sweep_bp / $g_bps)/ $g_bps)\" | bc -l\n"
   ]
  }
 ],
 "metadata": {
  "kernelspec": {
   "display_name": "Python 3",
   "language": "python",
   "name": "python3"
  },
  "language_info": {
   "codemirror_mode": {
    "name": "ipython",
    "version": 3
   },
   "file_extension": ".py",
   "mimetype": "text/x-python",
   "name": "python",
   "nbconvert_exporter": "python",
   "pygments_lexer": "ipython3",
   "version": "3.7.8"
  }
 },
 "nbformat": 4,
 "nbformat_minor": 4
}
