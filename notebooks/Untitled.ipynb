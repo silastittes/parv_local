{
 "cells": [
  {
   "cell_type": "code",
   "execution_count": null,
   "metadata": {},
   "outputs": [
    {
     "name": "stderr",
     "output_type": "stream",
     "text": [
      "also installing the dependencies ‘plyr’, ‘httpuv’, ‘htmltools’, ‘sourcetools’, ‘fastmap’, ‘miniUI’, ‘zoo’, ‘packrat’, ‘igraph’, ‘codetools’, ‘StanHeaders’, ‘inline’, ‘gridExtra’, ‘RcppParallel’, ‘V8’, ‘RcppEigen’, ‘checkmate’, ‘ggridges’, ‘reshape2’, ‘shiny’, ‘colourpicker’, ‘dygraphs’, ‘rsconnect’, ‘shinyjs’, ‘shinythemes’, ‘threejs’, ‘xtable’, ‘xts’, ‘mvtnorm’, ‘Brobdingnag’, ‘globals’, ‘listenv’, ‘rstan’, ‘loo’, ‘rstantools’, ‘bayesplot’, ‘shinystan’, ‘bridgesampling’, ‘matrixStats’, ‘nleqslv’, ‘coda’, ‘abind’, ‘future’\n",
      "\n",
      "Warning message in install.packages(\"brms\"):\n",
      "“installation of package ‘plyr’ had non-zero exit status”Warning message in install.packages(\"brms\"):\n",
      "“installation of package ‘httpuv’ had non-zero exit status”Warning message in install.packages(\"brms\"):\n",
      "“installation of package ‘htmltools’ had non-zero exit status”Warning message in install.packages(\"brms\"):\n",
      "“installation of package ‘sourcetools’ had non-zero exit status”Warning message in install.packages(\"brms\"):\n",
      "“installation of package ‘fastmap’ had non-zero exit status”Warning message in install.packages(\"brms\"):\n",
      "“installation of package ‘zoo’ had non-zero exit status”"
     ]
    }
   ],
   "source": [
    "install.packages(\"brms\")"
   ]
  },
  {
   "cell_type": "code",
   "execution_count": null,
   "metadata": {},
   "outputs": [],
   "source": []
  }
 ],
 "metadata": {
  "kernelspec": {
   "display_name": "R",
   "language": "R",
   "name": "ir"
  },
  "language_info": {
   "codemirror_mode": "r",
   "file_extension": ".r",
   "mimetype": "text/x-r-source",
   "name": "R",
   "pygments_lexer": "r",
   "version": "3.6.1"
  }
 },
 "nbformat": 4,
 "nbformat_minor": 2
}
