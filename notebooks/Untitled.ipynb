{
 "cells": [
  {
   "cell_type": "code",
   "execution_count": 1,
   "metadata": {},
   "outputs": [],
   "source": [
    "import allel\n",
    "import numpy as np\n",
    "import matplotlib.pyplot as plt"
   ]
  },
  {
   "cell_type": "code",
   "execution_count": 2,
   "metadata": {},
   "outputs": [],
   "source": [
    "mop = np.array([False] * 308452471)\n",
    "with open(\"../data/mop/v5--Teo--random1_Palmar_Chico--chr1--0--308452471.bed\") as f:\n",
    "    for line in f:\n",
    "        chrom, start, stop = line.strip().split()\n",
    "        mop[int(start):int(stop)] = True"
   ]
  },
  {
   "cell_type": "code",
   "execution_count": 3,
   "metadata": {},
   "outputs": [],
   "source": [
    "callset = allel.read_vcf('../data/angsd_vcf/v5--Teo--random1_Palmar_Chico--chr1--0--308452471.vcf.gz')"
   ]
  },
  {
   "cell_type": "code",
   "execution_count": 94,
   "metadata": {},
   "outputs": [],
   "source": [
    "chroms = callset[\"variants/CHROM\"]\n",
    "positions = np.extract(chroms == \"chr1\", callset[\"variants/POS\"])\n",
    "gts = allel.GenotypeArray(callset[\"calldata/GT\"]).count_alleles()"
   ]
  },
  {
   "cell_type": "code",
   "execution_count": 95,
   "metadata": {},
   "outputs": [
    {
     "data": {
      "text/html": [
       "<div class=\"allel allel-DisplayAs2D\"><span>&lt;AlleleCountsArray shape=(4673691, 2) dtype=int32&gt;</span><table><thead><tr><th></th><th style=\"text-align: center\">0</th><th style=\"text-align: center\">1</th></tr></thead><tbody><tr><th style=\"text-align: center; background-color: white; border-right: 1px solid black; \">0</th><td style=\"text-align: center\">18</td><td style=\"text-align: center\"> 2</td></tr><tr><th style=\"text-align: center; background-color: white; border-right: 1px solid black; \">1</th><td style=\"text-align: center\">18</td><td style=\"text-align: center\"> 2</td></tr><tr><th style=\"text-align: center; background-color: white; border-right: 1px solid black; \">2</th><td style=\"text-align: center\">19</td><td style=\"text-align: center\"> 1</td></tr><tr><th style=\"text-align: center; background-color: white; border-right: 1px solid black; \">...</th><td style=\"text-align: center\" colspan=\"3\">...</td></tr><tr><th style=\"text-align: center; background-color: white; border-right: 1px solid black; \">4673688</th><td style=\"text-align: center\">4</td><td style=\"text-align: center\">2</td></tr><tr><th style=\"text-align: center; background-color: white; border-right: 1px solid black; \">4673689</th><td style=\"text-align: center\">4</td><td style=\"text-align: center\">2</td></tr><tr><th style=\"text-align: center; background-color: white; border-right: 1px solid black; \">4673690</th><td style=\"text-align: center\">6</td><td style=\"text-align: center\">2</td></tr></tbody></table></div>"
      ],
      "text/plain": [
       "<AlleleCountsArray shape=(4673691, 2) dtype=int32>\n",
       "18  2\n",
       "18  2\n",
       "19  1\n",
       "...\n",
       "4 2\n",
       "4 2\n",
       "6 2"
      ]
     },
     "execution_count": 95,
     "metadata": {},
     "output_type": "execute_result"
    }
   ],
   "source": [
    "gts"
   ]
  },
  {
   "cell_type": "code",
   "execution_count": 127,
   "metadata": {},
   "outputs": [
    {
     "name": "stderr",
     "output_type": "stream",
     "text": [
      "/home/stittes/anaconda3/envs/r-environment/lib/python3.7/site-packages/allel/util.py:187: UserWarning: Some variants were inaccessible and hence masked.\n",
      "  warnings.warn(\"Some variants were inaccessible and hence masked.\")\n",
      "/home/stittes/anaconda3/envs/r-environment/lib/python3.7/site-packages/allel/stats/window.py:422: RuntimeWarning: divide by zero encountered in true_divide\n",
      "  y = np.where(n_bases > 0, x / n_bases, fill)\n"
     ]
    }
   ],
   "source": [
    "ska_pi = allel.windowed_diversity(positions, gts, start=0, stop=308452471, size = int(1e4), step = int(1e4), is_accessible=mop)"
   ]
  },
  {
   "cell_type": "code",
   "execution_count": 130,
   "metadata": {},
   "outputs": [
    {
     "data": {
      "text/plain": [
       "1e-05"
      ]
     },
     "execution_count": 130,
     "metadata": {},
     "output_type": "execute_result"
    }
   ],
   "source": [
    "pi = ska_pi[0][ska_pi[0] > 0]\n",
    "np.nanmean(pi)\n",
    "np.nanmin(pi)"
   ]
  },
  {
   "cell_type": "code",
   "execution_count": 129,
   "metadata": {},
   "outputs": [
    {
     "data": {
      "text/plain": [
       "(array([2.5936e+04, 3.2110e+03, 3.2000e+01, 1.2000e+01, 1.0000e+00,\n",
       "        1.0000e+00, 0.0000e+00, 1.0000e+00, 1.0000e+00, 1.0000e+00]),\n",
       " array([1.00000000e-05, 1.52721579e-02, 3.05343158e-02, 4.57964737e-02,\n",
       "        6.10586316e-02, 7.63207895e-02, 9.15829474e-02, 1.06845105e-01,\n",
       "        1.22107263e-01, 1.37369421e-01, 1.52631579e-01]),\n",
       " <BarContainer object of 10 artists>)"
      ]
     },
     "execution_count": 129,
     "metadata": {},
     "output_type": "execute_result"
    },
    {
     "data": {
      "image/png": "[encoded data removed]",
      "text/plain": [
       "<Figure size 432x288 with 1 Axes>"
      ]
     },
     "metadata": {
      "needs_background": "light"
     },
     "output_type": "display_data"
    }
   ],
   "source": [
    "plt.hist(pi)"
   ]
  },
  {
   "cell_type": "code",
   "execution_count": null,
   "metadata": {},
   "outputs": [],
   "source": []
  }
 ],
 "metadata": {
  "kernelspec": {
   "display_name": "Python 3",
   "language": "python",
   "name": "python3"
  },
  "language_info": {
   "codemirror_mode": {
    "name": "ipython",
    "version": 3
   },
   "file_extension": ".py",
   "mimetype": "text/x-python",
   "name": "python",
   "nbconvert_exporter": "python",
   "pygments_lexer": "ipython3",
   "version": "3.7.8"
  }
 },
 "nbformat": 4,
 "nbformat_minor": 4
}
